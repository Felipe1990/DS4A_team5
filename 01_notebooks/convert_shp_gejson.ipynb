{
 "cells": [
  {
   "cell_type": "markdown",
   "metadata": {},
   "source": [
    "# Convert Shapefile to GeoJson"
   ]
  },
  {
   "cell_type": "code",
   "execution_count": 1,
   "metadata": {},
   "outputs": [],
   "source": [
    "import shapefile\n",
    "from json import dumps"
   ]
  },
  {
   "cell_type": "code",
   "execution_count": 2,
   "metadata": {},
   "outputs": [],
   "source": [
    "def shp_to_geojson(shp, geo_json, encoding='latin1'):\n",
    "    # read the shapefile\n",
    "    reader = shapefile.Reader(shp, encoding=encoding)\n",
    "    fields = reader.fields[1:]\n",
    "    field_names = [field[0] for field in fields]\n",
    "    buffer = []\n",
    "    for sr in reader.shapeRecords():\n",
    "       atr = dict(zip(field_names, sr.record))\n",
    "       geom = sr.shape.__geo_interface__\n",
    "       buffer.append(dict(type=\"Feature\", geometry=geom, properties=atr)) \n",
    "\n",
    "    # write the GeoJSON file\n",
    "    with open(geo_json, \"w\", encoding=\"utf8\") as f:\n",
    "        f.write(dumps({\"type\": \"FeatureCollection\", \"features\": buffer}, indent=2) + \"\\n\")\n",
    "        f.close()"
   ]
  },
  {
   "cell_type": "code",
   "execution_count": 6,
   "metadata": {},
   "outputs": [],
   "source": [
    "# shp_to_geojson('shapes/shapes_censo/ac_setores_censitarios/12SEE250GC_SIR.shp', 'pyshp-demo.json')"
   ]
  },
  {
   "cell_type": "code",
   "execution_count": 3,
   "metadata": {},
   "outputs": [],
   "source": [
    "import os"
   ]
  },
  {
   "cell_type": "code",
   "execution_count": 4,
   "metadata": {},
   "outputs": [],
   "source": [
    "list_files_shp = {folder_i: ['sharp/'+folder_i+'/'+file for file in os.listdir('sharp/'+folder_i) if file.find('shp')>0] for folder_i in os.listdir('sharp')}"
   ]
  },
  {
   "cell_type": "code",
   "execution_count": 5,
   "metadata": {},
   "outputs": [
    {
     "data": {
      "text/plain": [
       "{'mg': ['sharp/mg/31SEE250GC_SIR.shp'],\n",
       " 'ce': ['sharp/ce/23SEE250GC_SIR.shp'],\n",
       " 'pr': ['sharp/pr/41SEE250GC_SIR.shp'],\n",
       " 'mt': ['sharp/mt/51SEE250GC_SIR.shp'],\n",
       " 'rs': ['sharp/rs/43SEE250GC_SIR.shp'],\n",
       " 'ms': ['sharp/ms/50SEE250GC_SIR.shp'],\n",
       " 'sp': ['sharp/sp/33SEE250GC_SIR.shp'],\n",
       " 'df': ['sharp/df/53SEE250GC_SIR.shp'],\n",
       " 'es': ['sharp/es/32SEE250GC_SIR.shp'],\n",
       " 'al': ['sharp/al/27SEE250GC_SIR.shp'],\n",
       " 'sc': ['sharp/sc/42SEE250GC_SIR.shp'],\n",
       " 'rj': ['sharp/rj/33SEE250GC_SIR.shp'],\n",
       " 'ba': ['sharp/ba/29SEE250GC_SIR.shp'],\n",
       " 'pe': ['sharp/pe/26SEE250GC_SIR.shp'],\n",
       " 'go': ['sharp/go/52SEE250GC_SIR.shp'],\n",
       " 'rn': ['sharp/rn/24SEE250GC_SIR.shp']}"
      ]
     },
     "execution_count": 5,
     "metadata": {},
     "output_type": "execute_result"
    }
   ],
   "source": [
    "list_files_shp"
   ]
  },
  {
   "cell_type": "code",
   "execution_count": 6,
   "metadata": {},
   "outputs": [],
   "source": [
    "shp_to_geojson('sharp/mg/31SEE250GC_SIR.shp', 'shapes_mg.json')\n",
    "\n",
    "#for est_i, path_i in list_files_shp.items():\n",
    "#    shp_to_geojson()"
   ]
  },
  {
   "cell_type": "code",
   "execution_count": 1,
   "metadata": {},
   "outputs": [],
   "source": [
    "# import geopandas as gpd\n",
    "# census_sector_gpd = gpd.read_file('sharp/sp/33SEE250GC_SIR.shp', encoding='latin1')\n",
    "#census_sector_gpd.to_file(\"countries.json\", driver='GeoJSON')"
   ]
  }
 ],
 "metadata": {
  "kernelspec": {
   "display_name": "Python 3",
   "language": "python",
   "name": "python3"
  },
  "language_info": {
   "codemirror_mode": {
    "name": "ipython",
    "version": 3
   },
   "file_extension": ".py",
   "mimetype": "text/x-python",
   "name": "python",
   "nbconvert_exporter": "python",
   "pygments_lexer": "ipython3",
   "version": "3.8.2"
  }
 },
 "nbformat": 4,
 "nbformat_minor": 4
}
