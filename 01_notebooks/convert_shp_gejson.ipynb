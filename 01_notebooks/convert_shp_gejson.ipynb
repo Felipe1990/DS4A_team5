{
 "cells": [
  {
   "cell_type": "markdown",
   "metadata": {},
   "source": [
    "# Convert Shapefile to GeoJson"
   ]
  },
  {
   "cell_type": "code",
   "execution_count": 1,
   "metadata": {},
   "outputs": [],
   "source": [
    "import shapefile\n",
    "from json import dumps\n",
    "import os"
   ]
  },
  {
   "cell_type": "code",
   "execution_count": 12,
   "metadata": {},
   "outputs": [],
   "source": [
    "os.chdir('../data')"
   ]
  },
  {
   "cell_type": "code",
   "execution_count": 2,
   "metadata": {},
   "outputs": [],
   "source": [
    "def shp_to_geojson(shp, geo_json, encoding='latin1'):\n",
    "    # read the shapefile\n",
    "    reader = shapefile.Reader(shp, encoding=encoding)\n",
    "    fields = reader.fields[1:]\n",
    "    field_names = [field[0] for field in fields]\n",
    "    buffer = []\n",
    "    for sr in reader.shapeRecords():\n",
    "       atr = dict(zip(field_names, sr.record))\n",
    "       geom = sr.shape.__geo_interface__\n",
    "       buffer.append(dict(type=\"Feature\", geometry=geom, properties=atr)) \n",
    "\n",
    "    # write the GeoJSON file\n",
    "    with open(geo_json, \"w\", encoding=\"utf8\") as f:\n",
    "        f.write(dumps({\"type\": \"FeatureCollection\", \"features\": buffer}, indent=2) + \"\\n\")\n",
    "        f.close()"
   ]
  },
  {
   "cell_type": "code",
   "execution_count": 13,
   "metadata": {},
   "outputs": [
    {
     "data": {
      "text/plain": [
       "{'mg': ['sharp/mg/31SEE250GC_SIR.shp'],\n",
       " 'ce': ['sharp/ce/23SEE250GC_SIR.shp'],\n",
       " 'pr': ['sharp/pr/41SEE250GC_SIR.shp'],\n",
       " 'mt': ['sharp/mt/51SEE250GC_SIR.shp'],\n",
       " 'rs': ['sharp/rs/43SEE250GC_SIR.shp'],\n",
       " 'ms': ['sharp/ms/50SEE250GC_SIR.shp'],\n",
       " 'sp': ['sharp/sp/33SEE250GC_SIR.shp'],\n",
       " 'df': ['sharp/df/53SEE250GC_SIR.shp'],\n",
       " 'es': ['sharp/es/32SEE250GC_SIR.shp'],\n",
       " 'al': ['sharp/al/27SEE250GC_SIR.shp'],\n",
       " 'sc': ['sharp/sc/42SEE250GC_SIR.shp'],\n",
       " 'rj': ['sharp/rj/33SEE250GC_SIR.shp'],\n",
       " 'ba': ['sharp/ba/29SEE250GC_SIR.shp'],\n",
       " 'pe': ['sharp/pe/26SEE250GC_SIR.shp'],\n",
       " 'go': ['sharp/go/52SEE250GC_SIR.shp'],\n",
       " 'rn': ['sharp/rn/24SEE250GC_SIR.shp']}"
      ]
     },
     "execution_count": 13,
     "metadata": {},
     "output_type": "execute_result"
    }
   ],
   "source": [
    "list_files_shp = {folder_i: ['sharp/'+folder_i+'/'+file for file in os.listdir('sharp/'+folder_i) if file.find('shp')>0] for folder_i in os.listdir('sharp')}\n",
    "list_files_shp"
   ]
  },
  {
   "cell_type": "code",
   "execution_count": 16,
   "metadata": {},
   "outputs": [
    {
     "name": "stdout",
     "output_type": "stream",
     "text": [
      "CPU times: user 6.38 s, sys: 312 ms, total: 6.69 s\n",
      "Wall time: 6.69 s\n"
     ]
    }
   ],
   "source": [
    "%%time\n",
    "shp_to_geojson('sharp/sc/42SEE250GC_SIR.shp', 'json_shapes/shape_sc.json')\n",
    "\n",
    "#for est_i, path_i in list_files_shp.items():\n",
    "#    shp_to_geojson()"
   ]
  },
  {
   "cell_type": "markdown",
   "metadata": {},
   "source": [
    "# Alternative using geopandas"
   ]
  },
  {
   "cell_type": "code",
   "execution_count": null,
   "metadata": {},
   "outputs": [],
   "source": [
    "import geopandas as gpd"
   ]
  },
  {
   "cell_type": "code",
   "execution_count": 15,
   "metadata": {},
   "outputs": [
    {
     "name": "stdout",
     "output_type": "stream",
     "text": [
      "CPU times: user 10.1 s, sys: 119 ms, total: 10.2 s\n",
      "Wall time: 10.3 s\n"
     ]
    }
   ],
   "source": [
    "%%time \n",
    "census_sector_gpd = gpd.read_file('sharp/sc/42SEE250GC_SIR.shp', encoding='latin1')\n",
    "census_sector_gpd.to_file('json_shapes/shape_sc.json', driver='GeoJSON')"
   ]
  },
  {
   "cell_type": "code",
   "execution_count": 19,
   "metadata": {},
   "outputs": [
    {
     "data": {
      "text/html": [
       "<div>\n",
       "<style scoped>\n",
       "    .dataframe tbody tr th:only-of-type {\n",
       "        vertical-align: middle;\n",
       "    }\n",
       "\n",
       "    .dataframe tbody tr th {\n",
       "        vertical-align: top;\n",
       "    }\n",
       "\n",
       "    .dataframe thead th {\n",
       "        text-align: right;\n",
       "    }\n",
       "</style>\n",
       "<table border=\"1\" class=\"dataframe\">\n",
       "  <thead>\n",
       "    <tr style=\"text-align: right;\">\n",
       "      <th></th>\n",
       "      <th>ID</th>\n",
       "      <th>CD_GEOCODI</th>\n",
       "      <th>TIPO</th>\n",
       "      <th>CD_GEOCODB</th>\n",
       "      <th>NM_BAIRRO</th>\n",
       "      <th>CD_GEOCODS</th>\n",
       "      <th>NM_SUBDIST</th>\n",
       "      <th>CD_GEOCODD</th>\n",
       "      <th>NM_DISTRIT</th>\n",
       "      <th>CD_GEOCODM</th>\n",
       "      <th>NM_MUNICIP</th>\n",
       "      <th>NM_MICRO</th>\n",
       "      <th>NM_MESO</th>\n",
       "      <th>geometry</th>\n",
       "    </tr>\n",
       "  </thead>\n",
       "  <tbody>\n",
       "    <tr>\n",
       "      <th>0</th>\n",
       "      <td>44537</td>\n",
       "      <td>420130705000046</td>\n",
       "      <td>RURAL</td>\n",
       "      <td>None</td>\n",
       "      <td>None</td>\n",
       "      <td>42013070500</td>\n",
       "      <td>None</td>\n",
       "      <td>420130705</td>\n",
       "      <td>ARAQUARI</td>\n",
       "      <td>4201307</td>\n",
       "      <td>ARAQUARI</td>\n",
       "      <td>JOINVILLE</td>\n",
       "      <td>NORTE CATARINENSE</td>\n",
       "      <td>POLYGON ((-48.71157 -26.38866, -48.70895 -26.3...</td>\n",
       "    </tr>\n",
       "    <tr>\n",
       "      <th>1</th>\n",
       "      <td>44538</td>\n",
       "      <td>420130705000047</td>\n",
       "      <td>RURAL</td>\n",
       "      <td>None</td>\n",
       "      <td>None</td>\n",
       "      <td>42013070500</td>\n",
       "      <td>None</td>\n",
       "      <td>420130705</td>\n",
       "      <td>ARAQUARI</td>\n",
       "      <td>4201307</td>\n",
       "      <td>ARAQUARI</td>\n",
       "      <td>JOINVILLE</td>\n",
       "      <td>NORTE CATARINENSE</td>\n",
       "      <td>POLYGON ((-48.82491 -26.44796, -48.82477 -26.4...</td>\n",
       "    </tr>\n",
       "  </tbody>\n",
       "</table>\n",
       "</div>"
      ],
      "text/plain": [
       "      ID       CD_GEOCODI   TIPO CD_GEOCODB NM_BAIRRO   CD_GEOCODS NM_SUBDIST  \\\n",
       "0  44537  420130705000046  RURAL       None      None  42013070500       None   \n",
       "1  44538  420130705000047  RURAL       None      None  42013070500       None   \n",
       "\n",
       "  CD_GEOCODD NM_DISTRIT CD_GEOCODM NM_MUNICIP   NM_MICRO            NM_MESO  \\\n",
       "0  420130705   ARAQUARI    4201307   ARAQUARI  JOINVILLE  NORTE CATARINENSE   \n",
       "1  420130705   ARAQUARI    4201307   ARAQUARI  JOINVILLE  NORTE CATARINENSE   \n",
       "\n",
       "                                            geometry  \n",
       "0  POLYGON ((-48.71157 -26.38866, -48.70895 -26.3...  \n",
       "1  POLYGON ((-48.82491 -26.44796, -48.82477 -26.4...  "
      ]
     },
     "execution_count": 19,
     "metadata": {},
     "output_type": "execute_result"
    }
   ],
   "source": [
    "census_sector_gpd.head(2)"
   ]
  }
 ],
 "metadata": {
  "kernelspec": {
   "display_name": "Python 3",
   "language": "python",
   "name": "python3"
  },
  "language_info": {
   "codemirror_mode": {
    "name": "ipython",
    "version": 3
   },
   "file_extension": ".py",
   "mimetype": "text/x-python",
   "name": "python",
   "nbconvert_exporter": "python",
   "pygments_lexer": "ipython3",
   "version": "3.8.2"
  }
 },
 "nbformat": 4,
 "nbformat_minor": 4
}
