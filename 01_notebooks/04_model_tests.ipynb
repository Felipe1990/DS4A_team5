{
 "cells": [
  {
   "cell_type": "code",
   "execution_count": 36,
   "metadata": {},
   "outputs": [],
   "source": [
    "# model creation\n",
    "import pandas as pd\n",
    "import os \n",
    "import numpy as np\n",
    "import matplotlib.pyplot as plt\n",
    "\n",
    "from sklearn.ensemble import RandomForestClassifier\n",
    "from sklearn.feature_selection import SelectFromModel\n",
    "from sklearn.model_selection import RandomizedSearchCV, train_test_split, GridSearchCV\n",
    "from sklearn.linear_model import SGDClassifier\n",
    "import xgboost as xgb\n",
    "# from scipy.stats import uniform\n",
    "from sklearn.metrics import accuracy_score, roc_auc_score, roc_curve, classification_report, confusion_matrix\n",
    "from sklearn.preprocessing import StandardScaler\n",
    "from sklearn.pipeline import Pipeline\n",
    "\n",
    "from sklearn.svm import LinearSVC\n",
    "from sklearn.calibration import CalibratedClassifierCV\n",
    "\n",
    "import keras\n",
    "\n",
    "os.chdir('../data/')\n",
    "\n",
    "data = pd.read_pickle('procesada/data_plus_census.pkl')\n",
    "#data = data.query('state==\"sp\"').dropna()\n",
    "data = data.dropna()"
   ]
  },
  {
   "cell_type": "code",
   "execution_count": 37,
   "metadata": {
    "scrolled": true
   },
   "outputs": [
    {
     "data": {
      "text/plain": [
       "R    19273\n",
       "A    13820\n",
       "Name: final_decision, dtype: int64"
      ]
     },
     "execution_count": 37,
     "metadata": {},
     "output_type": "execute_result"
    }
   ],
   "source": [
    "data.final_decision.value_counts()"
   ]
  },
  {
   "cell_type": "code",
   "execution_count": 3,
   "metadata": {},
   "outputs": [],
   "source": [
    "def model_metrics(model_search):\n",
    "    print('Best parameters: {0}'.format(model_search.best_params_))\n",
    "    print('Best score: {0:.3f}'.format(model_search.best_score_))\n",
    "    print('Best model score in test: {0:.3f}'.format(accuracy_score(y_test, model_search.best_estimator_.predict(X_test))))\n",
    "    print('Best model ROC in test: {0:.3f}'.format(roc_auc_score(y_test, model_search.best_estimator_.predict_proba(X_test)[:,1])))\n",
    "    print('Confussion matrix in test normalized:\\n')\n",
    "    print(pd.crosstab(y_test, model_search.best_estimator_.predict(X_test), normalize=True)*100)\n",
    "    print(\"\")\n",
    "    print('Confussion matrix in test:\\n')\n",
    "    print(confusion_matrix(y_test, model_search.best_estimator_.predict(X_test)))\n",
    "    print(\"\")\n",
    "    print('Classification report in test: \\n')\n",
    "    print(classification_report(y_test, model_search.best_estimator_.predict(X_test)))"
   ]
  },
  {
   "cell_type": "code",
   "execution_count": 38,
   "metadata": {},
   "outputs": [],
   "source": [
    "features = data[[x for x in data.columns if data[x].dtype!='object']]\n",
    "label = pd.to_numeric(data.final_decision=='A').astype(np.int8)\n",
    "\n",
    "X_train, X_test, y_train, y_test = train_test_split(features, label, test_size=0.2, random_state=42)\n",
    "\n"
   ]
  },
  {
   "cell_type": "markdown",
   "metadata": {},
   "source": [
    "# Logistic regression"
   ]
  },
  {
   "cell_type": "code",
   "execution_count": 5,
   "metadata": {},
   "outputs": [],
   "source": [
    "pipeline_logistic = Pipeline([('scaler', StandardScaler()), \n",
    "                              ('model', SGDClassifier(loss='log', penalty='elasticnet', random_state=2020, fit_intercept=True))],\n",
    "                             verbose = False)"
   ]
  },
  {
   "cell_type": "code",
   "execution_count": 6,
   "metadata": {},
   "outputs": [
    {
     "name": "stdout",
     "output_type": "stream",
     "text": [
      "Fitting 5 folds for each of 20 candidates, totalling 100 fits\n"
     ]
    },
    {
     "name": "stderr",
     "output_type": "stream",
     "text": [
      "[Parallel(n_jobs=5)]: Using backend LokyBackend with 5 concurrent workers.\n",
      "[Parallel(n_jobs=5)]: Done  40 tasks      | elapsed:   16.2s\n",
      "[Parallel(n_jobs=5)]: Done 100 out of 100 | elapsed:   32.5s finished\n"
     ]
    }
   ],
   "source": [
    "params_logistic = {'model__alpha': np.arange(0, 10, 0.2),\n",
    "                   'model__l1_ratio': np.arange(0.01, 1, 0.02)}\n",
    "\n",
    "model_logistic = RandomizedSearchCV(pipeline_logistic,\n",
    "                                    params_logistic, \n",
    "                                    random_state=2020,\n",
    "                                    scoring='accuracy',\n",
    "                                    cv=5,\n",
    "                                    n_iter=20,\n",
    "                                    verbose=1,\n",
    "                                    n_jobs=5)\n",
    "model_logistic = model_logistic.fit(X_train, y_train)"
   ]
  },
  {
   "cell_type": "code",
   "execution_count": 7,
   "metadata": {},
   "outputs": [
    {
     "name": "stdout",
     "output_type": "stream",
     "text": [
      "Best parameters: {'model__l1_ratio': 0.15, 'model__alpha': 0.6000000000000001}\n",
      "Best score: 0.667\n",
      "Best model score in test: 0.670\n",
      "Best model ROC in test: 0.771\n",
      "Confussion matrix in test normalized:\n",
      "\n",
      "col_0                   0          1\n",
      "final_decision                      \n",
      "0               55.688170   2.749660\n",
      "1               30.246261  11.315909\n",
      "\n",
      "Confussion matrix in test:\n",
      "\n",
      "[[3686  182]\n",
      " [2002  749]]\n",
      "\n",
      "Classification report in test: \n",
      "\n",
      "              precision    recall  f1-score   support\n",
      "\n",
      "           0       0.65      0.95      0.77      3868\n",
      "           1       0.80      0.27      0.41      2751\n",
      "\n",
      "    accuracy                           0.67      6619\n",
      "   macro avg       0.73      0.61      0.59      6619\n",
      "weighted avg       0.71      0.67      0.62      6619\n",
      "\n"
     ]
    }
   ],
   "source": [
    "model_metrics(model_logistic)"
   ]
  },
  {
   "cell_type": "markdown",
   "metadata": {},
   "source": [
    "# Random forest"
   ]
  },
  {
   "cell_type": "code",
   "execution_count": 8,
   "metadata": {},
   "outputs": [],
   "source": [
    "rf_acceptance = RandomForestClassifier(n_estimators=50)\n",
    "pipeline_rf = Pipeline([('scaler', StandardScaler()), \n",
    "                        ('select_model', SelectFromModel(rf_acceptance, prefit=False)),\n",
    "                        ('model', RandomForestClassifier(random_state=2020))],\n",
    "                       verbose = False)"
   ]
  },
  {
   "cell_type": "code",
   "execution_count": 9,
   "metadata": {},
   "outputs": [],
   "source": [
    "params_rf = {\n",
    "    'model__n_estimators': [100, 200, 500],\n",
    "    'model__min_samples_split': [2, 5, 10],\n",
    "    'model__min_samples_leaf': [1, 5, 10]\n",
    "}"
   ]
  },
  {
   "cell_type": "code",
   "execution_count": 10,
   "metadata": {},
   "outputs": [
    {
     "name": "stdout",
     "output_type": "stream",
     "text": [
      "Fitting 5 folds for each of 5 candidates, totalling 25 fits\n"
     ]
    },
    {
     "name": "stderr",
     "output_type": "stream",
     "text": [
      "[Parallel(n_jobs=5)]: Using backend LokyBackend with 5 concurrent workers.\n",
      "[Parallel(n_jobs=5)]: Done  25 out of  25 | elapsed:  8.4min finished\n"
     ]
    }
   ],
   "source": [
    "model_rf = RandomizedSearchCV(pipeline_rf, params_rf, cv=5, random_state=2020, n_iter=5, verbose=1, n_jobs=5)\n",
    "model_rf = model_rf.fit(X_train, y_train)"
   ]
  },
  {
   "cell_type": "code",
   "execution_count": 11,
   "metadata": {
    "scrolled": true
   },
   "outputs": [
    {
     "name": "stdout",
     "output_type": "stream",
     "text": [
      "Best parameters: {'model__n_estimators': 200, 'model__min_samples_split': 2, 'model__min_samples_leaf': 10}\n",
      "Best score: 0.731\n",
      "Best model score in test: 0.736\n",
      "Best model ROC in test: 0.797\n",
      "Confussion matrix in test normalized:\n",
      "\n",
      "col_0                   0          1\n",
      "final_decision                      \n",
      "0               47.983079  10.454751\n",
      "1               15.954072  25.608098\n",
      "\n",
      "Confussion matrix in test:\n",
      "\n",
      "[[3176  692]\n",
      " [1056 1695]]\n",
      "\n",
      "Classification report in test: \n",
      "\n",
      "              precision    recall  f1-score   support\n",
      "\n",
      "           0       0.75      0.82      0.78      3868\n",
      "           1       0.71      0.62      0.66      2751\n",
      "\n",
      "    accuracy                           0.74      6619\n",
      "   macro avg       0.73      0.72      0.72      6619\n",
      "weighted avg       0.73      0.74      0.73      6619\n",
      "\n"
     ]
    }
   ],
   "source": [
    "model_metrics(model_rf)"
   ]
  },
  {
   "cell_type": "markdown",
   "metadata": {},
   "source": [
    "# XGBoost"
   ]
  },
  {
   "cell_type": "code",
   "execution_count": 12,
   "metadata": {},
   "outputs": [
    {
     "name": "stdout",
     "output_type": "stream",
     "text": [
      "Fitting 5 folds for each of 15 candidates, totalling 75 fits\n"
     ]
    },
    {
     "name": "stderr",
     "output_type": "stream",
     "text": [
      "[Parallel(n_jobs=5)]: Using backend LokyBackend with 5 concurrent workers.\n",
      "[Parallel(n_jobs=5)]: Done  31 tasks      | elapsed: 18.7min\n",
      "[Parallel(n_jobs=5)]: Done  75 out of  75 | elapsed: 36.2min finished\n"
     ]
    }
   ],
   "source": [
    "dtrain = xgb.DMatrix(X_train, label=y_train)\n",
    "dtest = xgb.DMatrix(X_test, label=y_test)\n",
    "\n",
    "\n",
    "params_xgb = {'min_child_weight': [1, 5, 10],\n",
    "              'gamma': [0.5, 1, 1.5, 2, 5],\n",
    "              'subsample': [0.6, 0.8, 1.0],\n",
    "              'colsample_bytree': [0.6, 0.8, 1.0],\n",
    "              'max_depth': [3, 4, 5],\n",
    "              'n_estimators': [100, 200, 300]\n",
    "             }\n",
    "\n",
    "xgb_instace = xgb.XGBClassifier(learning_rate=0.01,\n",
    "                                objective='binary:logistic')\n",
    "\n",
    "model_xgb = RandomizedSearchCV(xgb_instace, \n",
    "                               params_xgb, \n",
    "                               n_iter=15,\n",
    "                               scoring='roc_auc',\n",
    "                               n_jobs=5, \n",
    "                               cv=5, \n",
    "                               verbose=2,\n",
    "                               random_state=2020)\n",
    "\n",
    "model_xgb = model_xgb.fit(X_train, y_train)"
   ]
  },
  {
   "cell_type": "code",
   "execution_count": 13,
   "metadata": {},
   "outputs": [
    {
     "name": "stdout",
     "output_type": "stream",
     "text": [
      "Best parameters: {'subsample': 0.8, 'n_estimators': 300, 'min_child_weight': 1, 'max_depth': 5, 'gamma': 5, 'colsample_bytree': 0.8}\n",
      "Best score: 0.798\n",
      "Best model score in test: 0.740\n",
      "Best model ROC in test: 0.805\n",
      "Confussion matrix in test normalized:\n",
      "\n",
      "col_0                   0          1\n",
      "final_decision                      \n",
      "0               47.907539  10.530292\n",
      "1               15.425291  26.136879\n",
      "\n",
      "Confussion matrix in test:\n",
      "\n",
      "[[3171  697]\n",
      " [1021 1730]]\n",
      "\n",
      "Classification report in test: \n",
      "\n",
      "              precision    recall  f1-score   support\n",
      "\n",
      "           0       0.76      0.82      0.79      3868\n",
      "           1       0.71      0.63      0.67      2751\n",
      "\n",
      "    accuracy                           0.74      6619\n",
      "   macro avg       0.73      0.72      0.73      6619\n",
      "weighted avg       0.74      0.74      0.74      6619\n",
      "\n"
     ]
    }
   ],
   "source": [
    "model_metrics(model_xgb)"
   ]
  },
  {
   "cell_type": "code",
   "execution_count": 14,
   "metadata": {},
   "outputs": [],
   "source": [
    "dtrain = xgb.DMatrix(X_train, label=y_train)\n",
    "dtest = xgb.DMatrix(X_test, label=y_test)\n",
    "\n",
    "param = {'eta': 0.01, 'objective': 'binary:logistic',\n",
    "         'subsample': 0.8, 'min_child_weight': 1,\n",
    "         'max_depth': 5, 'gamma': 5, 'colsample_bytree': 0.8}\n",
    "\n",
    "# specify validations set to watch performance\n",
    "# watchlist = [(dtest, 'eval'), (dtrain, 'train')]\n",
    "watchlist = [(dtest, 'eval')]\n",
    "num_round = 1400\n",
    "\n",
    "bst = xgb.train(param, dtrain, num_round, watchlist, early_stopping_rounds=80, verbose_eval=False)"
   ]
  },
  {
   "cell_type": "code",
   "execution_count": 15,
   "metadata": {
    "scrolled": true
   },
   "outputs": [
    {
     "data": {
      "text/plain": [
       "0.7322858437830488"
      ]
     },
     "execution_count": 15,
     "metadata": {},
     "output_type": "execute_result"
    }
   ],
   "source": [
    "predictions = (bst.predict(dtest)>0.5).astype(np.int8)\n",
    "accuracy_score(y_test, predictions)"
   ]
  },
  {
   "cell_type": "markdown",
   "metadata": {},
   "source": [
    "# SVM model"
   ]
  },
  {
   "cell_type": "code",
   "execution_count": 39,
   "metadata": {},
   "outputs": [],
   "source": [
    "features_svm = StandardScaler().fit_transform(features)\n",
    "\n",
    "X_train_svm, X_test_svm, y_train, y_test = train_test_split(features_svm, label, test_size=0.2, random_state=42)\n",
    "\n"
   ]
  },
  {
   "cell_type": "code",
   "execution_count": 17,
   "metadata": {
    "scrolled": true
   },
   "outputs": [
    {
     "name": "stderr",
     "output_type": "stream",
     "text": [
      "/Users/felipetellez/opt/anaconda3/envs/enviroment/lib/python3.7/site-packages/sklearn/model_selection/_validation.py:536: FitFailedWarning: Estimator fit failed. The score on this train-test partition for these parameters will be set to nan. Details: \n",
      "ValueError: Unsupported set of arguments: The combination of penalty='l1' and loss='hinge' is not supported, Parameters: penalty='l1', loss='hinge', dual=False\n",
      "\n",
      "  FitFailedWarning)\n",
      "/Users/felipetellez/opt/anaconda3/envs/enviroment/lib/python3.7/site-packages/sklearn/model_selection/_validation.py:536: FitFailedWarning: Estimator fit failed. The score on this train-test partition for these parameters will be set to nan. Details: \n",
      "ValueError: Unsupported set of arguments: The combination of penalty='l1' and loss='hinge' is not supported, Parameters: penalty='l1', loss='hinge', dual=False\n",
      "\n",
      "  FitFailedWarning)\n",
      "/Users/felipetellez/opt/anaconda3/envs/enviroment/lib/python3.7/site-packages/sklearn/model_selection/_validation.py:536: FitFailedWarning: Estimator fit failed. The score on this train-test partition for these parameters will be set to nan. Details: \n",
      "ValueError: Unsupported set of arguments: The combination of penalty='l1' and loss='hinge' is not supported, Parameters: penalty='l1', loss='hinge', dual=False\n",
      "\n",
      "  FitFailedWarning)\n",
      "/Users/felipetellez/opt/anaconda3/envs/enviroment/lib/python3.7/site-packages/sklearn/model_selection/_validation.py:536: FitFailedWarning: Estimator fit failed. The score on this train-test partition for these parameters will be set to nan. Details: \n",
      "ValueError: Unsupported set of arguments: The combination of penalty='l1' and loss='hinge' is not supported, Parameters: penalty='l1', loss='hinge', dual=False\n",
      "\n",
      "  FitFailedWarning)\n",
      "/Users/felipetellez/opt/anaconda3/envs/enviroment/lib/python3.7/site-packages/sklearn/model_selection/_validation.py:536: FitFailedWarning: Estimator fit failed. The score on this train-test partition for these parameters will be set to nan. Details: \n",
      "ValueError: Unsupported set of arguments: The combination of penalty='l1' and loss='hinge' is not supported, Parameters: penalty='l1', loss='hinge', dual=False\n",
      "\n",
      "  FitFailedWarning)\n",
      "/Users/felipetellez/opt/anaconda3/envs/enviroment/lib/python3.7/site-packages/sklearn/model_selection/_validation.py:536: FitFailedWarning: Estimator fit failed. The score on this train-test partition for these parameters will be set to nan. Details: \n",
      "ValueError: Unsupported set of arguments: The combination of penalty='l2' and loss='hinge' are not supported when dual=False, Parameters: penalty='l2', loss='hinge', dual=False\n",
      "\n",
      "  FitFailedWarning)\n",
      "/Users/felipetellez/opt/anaconda3/envs/enviroment/lib/python3.7/site-packages/sklearn/model_selection/_validation.py:536: FitFailedWarning: Estimator fit failed. The score on this train-test partition for these parameters will be set to nan. Details: \n",
      "ValueError: Unsupported set of arguments: The combination of penalty='l2' and loss='hinge' are not supported when dual=False, Parameters: penalty='l2', loss='hinge', dual=False\n",
      "\n",
      "  FitFailedWarning)\n",
      "/Users/felipetellez/opt/anaconda3/envs/enviroment/lib/python3.7/site-packages/sklearn/model_selection/_validation.py:536: FitFailedWarning: Estimator fit failed. The score on this train-test partition for these parameters will be set to nan. Details: \n",
      "ValueError: Unsupported set of arguments: The combination of penalty='l2' and loss='hinge' are not supported when dual=False, Parameters: penalty='l2', loss='hinge', dual=False\n",
      "\n",
      "  FitFailedWarning)\n",
      "/Users/felipetellez/opt/anaconda3/envs/enviroment/lib/python3.7/site-packages/sklearn/model_selection/_validation.py:536: FitFailedWarning: Estimator fit failed. The score on this train-test partition for these parameters will be set to nan. Details: \n",
      "ValueError: Unsupported set of arguments: The combination of penalty='l2' and loss='hinge' are not supported when dual=False, Parameters: penalty='l2', loss='hinge', dual=False\n",
      "\n",
      "  FitFailedWarning)\n",
      "/Users/felipetellez/opt/anaconda3/envs/enviroment/lib/python3.7/site-packages/sklearn/model_selection/_validation.py:536: FitFailedWarning: Estimator fit failed. The score on this train-test partition for these parameters will be set to nan. Details: \n",
      "ValueError: Unsupported set of arguments: The combination of penalty='l2' and loss='hinge' are not supported when dual=False, Parameters: penalty='l2', loss='hinge', dual=False\n",
      "\n",
      "  FitFailedWarning)\n",
      "/Users/felipetellez/opt/anaconda3/envs/enviroment/lib/python3.7/site-packages/sklearn/svm/_base.py:947: ConvergenceWarning: Liblinear failed to converge, increase the number of iterations.\n",
      "  \"the number of iterations.\", ConvergenceWarning)\n",
      "/Users/felipetellez/opt/anaconda3/envs/enviroment/lib/python3.7/site-packages/sklearn/svm/_base.py:947: ConvergenceWarning: Liblinear failed to converge, increase the number of iterations.\n",
      "  \"the number of iterations.\", ConvergenceWarning)\n",
      "/Users/felipetellez/opt/anaconda3/envs/enviroment/lib/python3.7/site-packages/sklearn/svm/_base.py:947: ConvergenceWarning: Liblinear failed to converge, increase the number of iterations.\n",
      "  \"the number of iterations.\", ConvergenceWarning)\n",
      "/Users/felipetellez/opt/anaconda3/envs/enviroment/lib/python3.7/site-packages/sklearn/svm/_base.py:947: ConvergenceWarning: Liblinear failed to converge, increase the number of iterations.\n",
      "  \"the number of iterations.\", ConvergenceWarning)\n",
      "/Users/felipetellez/opt/anaconda3/envs/enviroment/lib/python3.7/site-packages/sklearn/svm/_base.py:947: ConvergenceWarning: Liblinear failed to converge, increase the number of iterations.\n",
      "  \"the number of iterations.\", ConvergenceWarning)\n",
      "/Users/felipetellez/opt/anaconda3/envs/enviroment/lib/python3.7/site-packages/sklearn/model_selection/_validation.py:536: FitFailedWarning: Estimator fit failed. The score on this train-test partition for these parameters will be set to nan. Details: \n",
      "ValueError: Unsupported set of arguments: The combination of penalty='l1' and loss='hinge' is not supported, Parameters: penalty='l1', loss='hinge', dual=False\n",
      "\n",
      "  FitFailedWarning)\n",
      "/Users/felipetellez/opt/anaconda3/envs/enviroment/lib/python3.7/site-packages/sklearn/model_selection/_validation.py:536: FitFailedWarning: Estimator fit failed. The score on this train-test partition for these parameters will be set to nan. Details: \n",
      "ValueError: Unsupported set of arguments: The combination of penalty='l1' and loss='hinge' is not supported, Parameters: penalty='l1', loss='hinge', dual=False\n",
      "\n",
      "  FitFailedWarning)\n",
      "/Users/felipetellez/opt/anaconda3/envs/enviroment/lib/python3.7/site-packages/sklearn/model_selection/_validation.py:536: FitFailedWarning: Estimator fit failed. The score on this train-test partition for these parameters will be set to nan. Details: \n",
      "ValueError: Unsupported set of arguments: The combination of penalty='l1' and loss='hinge' is not supported, Parameters: penalty='l1', loss='hinge', dual=False\n",
      "\n",
      "  FitFailedWarning)\n",
      "/Users/felipetellez/opt/anaconda3/envs/enviroment/lib/python3.7/site-packages/sklearn/model_selection/_validation.py:536: FitFailedWarning: Estimator fit failed. The score on this train-test partition for these parameters will be set to nan. Details: \n",
      "ValueError: Unsupported set of arguments: The combination of penalty='l1' and loss='hinge' is not supported, Parameters: penalty='l1', loss='hinge', dual=False\n",
      "\n",
      "  FitFailedWarning)\n",
      "/Users/felipetellez/opt/anaconda3/envs/enviroment/lib/python3.7/site-packages/sklearn/model_selection/_validation.py:536: FitFailedWarning: Estimator fit failed. The score on this train-test partition for these parameters will be set to nan. Details: \n",
      "ValueError: Unsupported set of arguments: The combination of penalty='l1' and loss='hinge' is not supported, Parameters: penalty='l1', loss='hinge', dual=False\n",
      "\n",
      "  FitFailedWarning)\n",
      "/Users/felipetellez/opt/anaconda3/envs/enviroment/lib/python3.7/site-packages/sklearn/model_selection/_validation.py:536: FitFailedWarning: Estimator fit failed. The score on this train-test partition for these parameters will be set to nan. Details: \n",
      "ValueError: Unsupported set of arguments: The combination of penalty='l2' and loss='hinge' are not supported when dual=False, Parameters: penalty='l2', loss='hinge', dual=False\n",
      "\n",
      "  FitFailedWarning)\n",
      "/Users/felipetellez/opt/anaconda3/envs/enviroment/lib/python3.7/site-packages/sklearn/model_selection/_validation.py:536: FitFailedWarning: Estimator fit failed. The score on this train-test partition for these parameters will be set to nan. Details: \n",
      "ValueError: Unsupported set of arguments: The combination of penalty='l2' and loss='hinge' are not supported when dual=False, Parameters: penalty='l2', loss='hinge', dual=False\n",
      "\n",
      "  FitFailedWarning)\n",
      "/Users/felipetellez/opt/anaconda3/envs/enviroment/lib/python3.7/site-packages/sklearn/model_selection/_validation.py:536: FitFailedWarning: Estimator fit failed. The score on this train-test partition for these parameters will be set to nan. Details: \n",
      "ValueError: Unsupported set of arguments: The combination of penalty='l2' and loss='hinge' are not supported when dual=False, Parameters: penalty='l2', loss='hinge', dual=False\n",
      "\n",
      "  FitFailedWarning)\n",
      "/Users/felipetellez/opt/anaconda3/envs/enviroment/lib/python3.7/site-packages/sklearn/model_selection/_validation.py:536: FitFailedWarning: Estimator fit failed. The score on this train-test partition for these parameters will be set to nan. Details: \n",
      "ValueError: Unsupported set of arguments: The combination of penalty='l2' and loss='hinge' are not supported when dual=False, Parameters: penalty='l2', loss='hinge', dual=False\n",
      "\n",
      "  FitFailedWarning)\n"
     ]
    },
    {
     "name": "stderr",
     "output_type": "stream",
     "text": [
      "/Users/felipetellez/opt/anaconda3/envs/enviroment/lib/python3.7/site-packages/sklearn/model_selection/_validation.py:536: FitFailedWarning: Estimator fit failed. The score on this train-test partition for these parameters will be set to nan. Details: \n",
      "ValueError: Unsupported set of arguments: The combination of penalty='l2' and loss='hinge' are not supported when dual=False, Parameters: penalty='l2', loss='hinge', dual=False\n",
      "\n",
      "  FitFailedWarning)\n",
      "/Users/felipetellez/opt/anaconda3/envs/enviroment/lib/python3.7/site-packages/sklearn/svm/_base.py:947: ConvergenceWarning: Liblinear failed to converge, increase the number of iterations.\n",
      "  \"the number of iterations.\", ConvergenceWarning)\n",
      "/Users/felipetellez/opt/anaconda3/envs/enviroment/lib/python3.7/site-packages/sklearn/svm/_base.py:947: ConvergenceWarning: Liblinear failed to converge, increase the number of iterations.\n",
      "  \"the number of iterations.\", ConvergenceWarning)\n",
      "/Users/felipetellez/opt/anaconda3/envs/enviroment/lib/python3.7/site-packages/sklearn/svm/_base.py:947: ConvergenceWarning: Liblinear failed to converge, increase the number of iterations.\n",
      "  \"the number of iterations.\", ConvergenceWarning)\n",
      "/Users/felipetellez/opt/anaconda3/envs/enviroment/lib/python3.7/site-packages/sklearn/svm/_base.py:947: ConvergenceWarning: Liblinear failed to converge, increase the number of iterations.\n",
      "  \"the number of iterations.\", ConvergenceWarning)\n",
      "/Users/felipetellez/opt/anaconda3/envs/enviroment/lib/python3.7/site-packages/sklearn/svm/_base.py:947: ConvergenceWarning: Liblinear failed to converge, increase the number of iterations.\n",
      "  \"the number of iterations.\", ConvergenceWarning)\n",
      "/Users/felipetellez/opt/anaconda3/envs/enviroment/lib/python3.7/site-packages/sklearn/model_selection/_validation.py:536: FitFailedWarning: Estimator fit failed. The score on this train-test partition for these parameters will be set to nan. Details: \n",
      "ValueError: Unsupported set of arguments: The combination of penalty='l1' and loss='hinge' is not supported, Parameters: penalty='l1', loss='hinge', dual=False\n",
      "\n",
      "  FitFailedWarning)\n",
      "/Users/felipetellez/opt/anaconda3/envs/enviroment/lib/python3.7/site-packages/sklearn/model_selection/_validation.py:536: FitFailedWarning: Estimator fit failed. The score on this train-test partition for these parameters will be set to nan. Details: \n",
      "ValueError: Unsupported set of arguments: The combination of penalty='l1' and loss='hinge' is not supported, Parameters: penalty='l1', loss='hinge', dual=False\n",
      "\n",
      "  FitFailedWarning)\n",
      "/Users/felipetellez/opt/anaconda3/envs/enviroment/lib/python3.7/site-packages/sklearn/model_selection/_validation.py:536: FitFailedWarning: Estimator fit failed. The score on this train-test partition for these parameters will be set to nan. Details: \n",
      "ValueError: Unsupported set of arguments: The combination of penalty='l1' and loss='hinge' is not supported, Parameters: penalty='l1', loss='hinge', dual=False\n",
      "\n",
      "  FitFailedWarning)\n",
      "/Users/felipetellez/opt/anaconda3/envs/enviroment/lib/python3.7/site-packages/sklearn/model_selection/_validation.py:536: FitFailedWarning: Estimator fit failed. The score on this train-test partition for these parameters will be set to nan. Details: \n",
      "ValueError: Unsupported set of arguments: The combination of penalty='l1' and loss='hinge' is not supported, Parameters: penalty='l1', loss='hinge', dual=False\n",
      "\n",
      "  FitFailedWarning)\n",
      "/Users/felipetellez/opt/anaconda3/envs/enviroment/lib/python3.7/site-packages/sklearn/model_selection/_validation.py:536: FitFailedWarning: Estimator fit failed. The score on this train-test partition for these parameters will be set to nan. Details: \n",
      "ValueError: Unsupported set of arguments: The combination of penalty='l1' and loss='hinge' is not supported, Parameters: penalty='l1', loss='hinge', dual=False\n",
      "\n",
      "  FitFailedWarning)\n",
      "/Users/felipetellez/opt/anaconda3/envs/enviroment/lib/python3.7/site-packages/sklearn/model_selection/_validation.py:536: FitFailedWarning: Estimator fit failed. The score on this train-test partition for these parameters will be set to nan. Details: \n",
      "ValueError: Unsupported set of arguments: The combination of penalty='l2' and loss='hinge' are not supported when dual=False, Parameters: penalty='l2', loss='hinge', dual=False\n",
      "\n",
      "  FitFailedWarning)\n",
      "/Users/felipetellez/opt/anaconda3/envs/enviroment/lib/python3.7/site-packages/sklearn/model_selection/_validation.py:536: FitFailedWarning: Estimator fit failed. The score on this train-test partition for these parameters will be set to nan. Details: \n",
      "ValueError: Unsupported set of arguments: The combination of penalty='l2' and loss='hinge' are not supported when dual=False, Parameters: penalty='l2', loss='hinge', dual=False\n",
      "\n",
      "  FitFailedWarning)\n",
      "/Users/felipetellez/opt/anaconda3/envs/enviroment/lib/python3.7/site-packages/sklearn/model_selection/_validation.py:536: FitFailedWarning: Estimator fit failed. The score on this train-test partition for these parameters will be set to nan. Details: \n",
      "ValueError: Unsupported set of arguments: The combination of penalty='l2' and loss='hinge' are not supported when dual=False, Parameters: penalty='l2', loss='hinge', dual=False\n",
      "\n",
      "  FitFailedWarning)\n",
      "/Users/felipetellez/opt/anaconda3/envs/enviroment/lib/python3.7/site-packages/sklearn/model_selection/_validation.py:536: FitFailedWarning: Estimator fit failed. The score on this train-test partition for these parameters will be set to nan. Details: \n",
      "ValueError: Unsupported set of arguments: The combination of penalty='l2' and loss='hinge' are not supported when dual=False, Parameters: penalty='l2', loss='hinge', dual=False\n",
      "\n",
      "  FitFailedWarning)\n",
      "/Users/felipetellez/opt/anaconda3/envs/enviroment/lib/python3.7/site-packages/sklearn/model_selection/_validation.py:536: FitFailedWarning: Estimator fit failed. The score on this train-test partition for these parameters will be set to nan. Details: \n",
      "ValueError: Unsupported set of arguments: The combination of penalty='l2' and loss='hinge' are not supported when dual=False, Parameters: penalty='l2', loss='hinge', dual=False\n",
      "\n",
      "  FitFailedWarning)\n",
      "/Users/felipetellez/opt/anaconda3/envs/enviroment/lib/python3.7/site-packages/sklearn/svm/_base.py:947: ConvergenceWarning: Liblinear failed to converge, increase the number of iterations.\n",
      "  \"the number of iterations.\", ConvergenceWarning)\n",
      "/Users/felipetellez/opt/anaconda3/envs/enviroment/lib/python3.7/site-packages/sklearn/svm/_base.py:947: ConvergenceWarning: Liblinear failed to converge, increase the number of iterations.\n",
      "  \"the number of iterations.\", ConvergenceWarning)\n",
      "/Users/felipetellez/opt/anaconda3/envs/enviroment/lib/python3.7/site-packages/sklearn/svm/_base.py:947: ConvergenceWarning: Liblinear failed to converge, increase the number of iterations.\n",
      "  \"the number of iterations.\", ConvergenceWarning)\n",
      "/Users/felipetellez/opt/anaconda3/envs/enviroment/lib/python3.7/site-packages/sklearn/svm/_base.py:947: ConvergenceWarning: Liblinear failed to converge, increase the number of iterations.\n",
      "  \"the number of iterations.\", ConvergenceWarning)\n",
      "/Users/felipetellez/opt/anaconda3/envs/enviroment/lib/python3.7/site-packages/sklearn/svm/_base.py:947: ConvergenceWarning: Liblinear failed to converge, increase the number of iterations.\n",
      "  \"the number of iterations.\", ConvergenceWarning)\n",
      "/Users/felipetellez/opt/anaconda3/envs/enviroment/lib/python3.7/site-packages/sklearn/svm/_base.py:947: ConvergenceWarning: Liblinear failed to converge, increase the number of iterations.\n",
      "  \"the number of iterations.\", ConvergenceWarning)\n"
     ]
    }
   ],
   "source": [
    "svm = LinearSVC(random_state=2020, dual=False)\n",
    "\n",
    "\n",
    "#Setup the hyperparameter grid\n",
    "param_grid = [{'C': [0.01,1,10],\n",
    "               'penalty': ['l1', 'l2'],\n",
    "              'loss': ['hinge', 'squared_hinge']}]\n",
    "\n",
    "\n",
    "# grid search\n",
    "svm_grid = GridSearchCV(svm, param_grid, cv=5)\n",
    "\n",
    "\n",
    "\n",
    "# Fit it to the data\n",
    "model_svm = svm_grid.fit(X_train_svm, y_train)"
   ]
  },
  {
   "cell_type": "code",
   "execution_count": 18,
   "metadata": {},
   "outputs": [
    {
     "name": "stderr",
     "output_type": "stream",
     "text": [
      "/Users/felipetellez/opt/anaconda3/envs/enviroment/lib/python3.7/site-packages/sklearn/svm/_base.py:947: ConvergenceWarning: Liblinear failed to converge, increase the number of iterations.\n",
      "  \"the number of iterations.\", ConvergenceWarning)\n",
      "/Users/felipetellez/opt/anaconda3/envs/enviroment/lib/python3.7/site-packages/sklearn/svm/_base.py:947: ConvergenceWarning: Liblinear failed to converge, increase the number of iterations.\n",
      "  \"the number of iterations.\", ConvergenceWarning)\n",
      "/Users/felipetellez/opt/anaconda3/envs/enviroment/lib/python3.7/site-packages/sklearn/svm/_base.py:947: ConvergenceWarning: Liblinear failed to converge, increase the number of iterations.\n",
      "  \"the number of iterations.\", ConvergenceWarning)\n",
      "/Users/felipetellez/opt/anaconda3/envs/enviroment/lib/python3.7/site-packages/sklearn/svm/_base.py:947: ConvergenceWarning: Liblinear failed to converge, increase the number of iterations.\n",
      "  \"the number of iterations.\", ConvergenceWarning)\n",
      "/Users/felipetellez/opt/anaconda3/envs/enviroment/lib/python3.7/site-packages/sklearn/svm/_base.py:947: ConvergenceWarning: Liblinear failed to converge, increase the number of iterations.\n",
      "  \"the number of iterations.\", ConvergenceWarning)\n"
     ]
    }
   ],
   "source": [
    "# Instantiate a SVC classifier: \n",
    "#se hace esto por que el svm no tiene metodo de predict proba\n",
    "\n",
    "svm_proba = CalibratedClassifierCV(base_estimator=model_svm.best_estimator_, cv=5)\n",
    "model_svm_proba =svm_proba.fit(X_train_svm, y_train)"
   ]
  },
  {
   "cell_type": "code",
   "execution_count": 19,
   "metadata": {},
   "outputs": [],
   "source": [
    "def model_metrics2(svm_grid, svm_proba):\n",
    "    print('Best parameters: {0}'.format(svm_grid.best_params_))\n",
    "    print('Best score: {0:.3f}'.format(svm_grid.best_score_))\n",
    "    print('Best model score in test: {0:.3f}'.format(accuracy_score(y_test, model_svm_proba.predict(X_test_svm))))\n",
    "    print('Best model ROC in test: {0:.3f}'.format(roc_auc_score(y_test, model_svm_proba.predict_proba(X_test_svm)[:,1])))\n",
    "    print('Confussion matrix in test normalized:\\n')\n",
    "    print(pd.crosstab(y_test, model_svm_proba.predict(X_test_svm), normalize=True)*100)\n",
    "    print(\"\")\n",
    "    print('Confussion matrix in test:\\n')\n",
    "    print(confusion_matrix(y_test, model_svm_proba.predict(X_test_svm)))\n",
    "    print(\"\")\n",
    "    print('Classification report in test: \\n')\n",
    "    print(classification_report(y_test, model_svm_proba.predict(X_test_svm)))"
   ]
  },
  {
   "cell_type": "code",
   "execution_count": 20,
   "metadata": {
    "scrolled": true
   },
   "outputs": [
    {
     "name": "stdout",
     "output_type": "stream",
     "text": [
      "Best parameters: {'C': 1, 'loss': 'squared_hinge', 'penalty': 'l1'}\n",
      "Best score: 0.729\n",
      "Best model score in test: 0.732\n",
      "Best model ROC in test: 0.798\n",
      "Confussion matrix in test normalized:\n",
      "\n",
      "col_0                   0          1\n",
      "final_decision                      \n",
      "0               49.055749   9.382082\n",
      "1               17.404442  24.157728\n",
      "\n",
      "Confussion matrix in test:\n",
      "\n",
      "[[3247  621]\n",
      " [1152 1599]]\n",
      "\n",
      "Classification report in test: \n",
      "\n",
      "              precision    recall  f1-score   support\n",
      "\n",
      "           0       0.74      0.84      0.79      3868\n",
      "           1       0.72      0.58      0.64      2751\n",
      "\n",
      "    accuracy                           0.73      6619\n",
      "   macro avg       0.73      0.71      0.71      6619\n",
      "weighted avg       0.73      0.73      0.73      6619\n",
      "\n"
     ]
    }
   ],
   "source": [
    "model_metrics2(model_svm ,model_svm_proba)"
   ]
  },
  {
   "cell_type": "markdown",
   "metadata": {},
   "source": [
    "# Neural Net"
   ]
  },
  {
   "cell_type": "code",
   "execution_count": 41,
   "metadata": {},
   "outputs": [],
   "source": [
    "from keras.models import load_model\n",
    "\n",
    "os.chdir('../')"
   ]
  },
  {
   "cell_type": "code",
   "execution_count": 42,
   "metadata": {},
   "outputs": [
    {
     "data": {
      "text/plain": [
       "'/Users/felipetellez/Desktop/data creditas/modificado/DS4A_team5'"
      ]
     },
     "execution_count": 42,
     "metadata": {},
     "output_type": "execute_result"
    }
   ],
   "source": [
    "os.getcwd()"
   ]
  },
  {
   "cell_type": "code",
   "execution_count": 43,
   "metadata": {
    "scrolled": true
   },
   "outputs": [
    {
     "name": "stdout",
     "output_type": "stream",
     "text": [
      "Model: \"sequential_1354\"\n",
      "_________________________________________________________________\n",
      "Layer (type)                 Output Shape              Param #   \n",
      "=================================================================\n",
      "dense_4060 (Dense)           (None, 212)               45156     \n",
      "_________________________________________________________________\n",
      "dense_4061 (Dense)           (None, 80)                17040     \n",
      "_________________________________________________________________\n",
      "dense_4062 (Dense)           (None, 1)                 81        \n",
      "=================================================================\n",
      "Total params: 62,277\n",
      "Trainable params: 62,277\n",
      "Non-trainable params: 0\n",
      "_________________________________________________________________\n",
      "['loss', 'accuracy']\n",
      "[0.5092356652899404, 0.7492068409919739]\n"
     ]
    }
   ],
   "source": [
    "# load model\n",
    "model = load_model('model.h5')\n",
    "\n",
    "# summarize model.\n",
    "model.summary()\n",
    "\n",
    "# evaluate the model\n",
    "score = model.evaluate(X_test_svm, y_test, verbose=0)\n",
    "\n",
    "print(model.metrics_names)\n",
    "print(score)"
   ]
  },
  {
   "cell_type": "code",
   "execution_count": 44,
   "metadata": {},
   "outputs": [
    {
     "name": "stdout",
     "output_type": "stream",
     "text": [
      "[[3118  750]\n",
      " [ 910 1841]]\n",
      "\n",
      "              precision    recall  f1-score   support\n",
      "\n",
      "           0       0.77      0.81      0.79      3868\n",
      "           1       0.71      0.67      0.69      2751\n",
      "\n",
      "    accuracy                           0.75      6619\n",
      "   macro avg       0.74      0.74      0.74      6619\n",
      "weighted avg       0.75      0.75      0.75      6619\n",
      "\n"
     ]
    }
   ],
   "source": [
    "y_pred = model.predict_classes(X_test_svm)\n",
    "\n",
    "print(confusion_matrix(y_test, y_pred))\n",
    "print(\"\")\n",
    "print(classification_report(y_test, y_pred))\n"
   ]
  },
  {
   "cell_type": "code",
   "execution_count": 45,
   "metadata": {},
   "outputs": [
    {
     "name": "stdout",
     "output_type": "stream",
     "text": [
      "[[2939  929]\n",
      " [ 741 2010]]\n",
      "\n",
      "              precision    recall  f1-score   support\n",
      "\n",
      "           0       0.80      0.76      0.78      3868\n",
      "           1       0.68      0.73      0.71      2751\n",
      "\n",
      "    accuracy                           0.75      6619\n",
      "   macro avg       0.74      0.75      0.74      6619\n",
      "weighted avg       0.75      0.75      0.75      6619\n",
      "\n"
     ]
    }
   ],
   "source": [
    "\n",
    "y_pred = model.predict_proba(X_test_svm)>0.45\n",
    "\n",
    "\n",
    "print(confusion_matrix(y_test, y_pred))\n",
    "print(\"\")\n",
    "print(classification_report(y_test, y_pred))"
   ]
  },
  {
   "cell_type": "markdown",
   "metadata": {},
   "source": [
    "# Comparing ROC curves"
   ]
  },
  {
   "cell_type": "code",
   "execution_count": 46,
   "metadata": {},
   "outputs": [
    {
     "data": {
      "image/png": "[encoded data removed]",
      "text/plain": [
       "<Figure size 1008x720 with 1 Axes>"
      ]
     },
     "metadata": {
      "needs_background": "light"
     },
     "output_type": "display_data"
    }
   ],
   "source": [
    "names_models = ['logistic_lasso', 'rf', 'xgb']\n",
    "fig, ax = plt.subplots(figsize=(14, 10))\n",
    "ax.plot([0, 1], [0, 1], 'k--')\n",
    "for idx, model_i in enumerate([model_logistic, model_rf, model_xgb]):\n",
    "    fpr, tpr, thresholds = roc_curve(y_test, model_i.predict_proba(X_test)[:,1])\n",
    "    plt.plot(fpr, tpr, label=names_models[idx])\n",
    "\n",
    "fpr, tpr, thresholds = roc_curve(y_test, bst.predict(dtest))\n",
    "plt.plot(fpr, tpr, label='xgb_2')\n",
    "\n",
    "fpr, tpr, thresholds = roc_curve(y_test, model_svm_proba.predict_proba(X_test_svm)[:,1])\n",
    "plt.plot(fpr, tpr, label='svm')\n",
    "\n",
    "fpr, tpr, thresholds = roc_curve(y_test, model.predict_proba(X_test_svm))\n",
    "plt.plot(fpr, tpr, label='dnn')\n",
    "\n",
    "ax.legend()\n",
    "plt.xlabel('False Positive Rate')\n",
    "plt.ylabel('True Positive Rate')\n",
    "plt.title('ROC Curve')\n",
    "plt.show()"
   ]
  },
  {
   "cell_type": "code",
   "execution_count": null,
   "metadata": {},
   "outputs": [],
   "source": []
  }
 ],
 "metadata": {
  "kernelspec": {
   "display_name": "Python 3",
   "language": "python",
   "name": "python3"
  },
  "language_info": {
   "codemirror_mode": {
    "name": "ipython",
    "version": 3
   },
   "file_extension": ".py",
   "mimetype": "text/x-python",
   "name": "python",
   "nbconvert_exporter": "python",
   "pygments_lexer": "ipython3",
   "version": "3.7.7"
  }
 },
 "nbformat": 4,
 "nbformat_minor": 4
}
