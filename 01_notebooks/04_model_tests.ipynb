{
 "cells": [
  {
   "cell_type": "code",
   "execution_count": 93,
   "metadata": {},
   "outputs": [],
   "source": [
    "# model creation\n",
    "import pandas as pd\n",
    "import os \n",
    "import numpy as np\n",
    "import matplotlib.pyplot as plt\n",
    "\n",
    "from sklearn.ensemble import RandomForestClassifier\n",
    "from sklearn.feature_selection import SelectFromModel\n",
    "from sklearn.model_selection import RandomizedSearchCV, train_test_split\n",
    "from sklearn.linear_model import SGDClassifier\n",
    "import xgboost as xgb\n",
    "# from scipy.stats import uniform\n",
    "from sklearn.metrics import accuracy_score, roc_auc_score, roc_curve, classification_report\n",
    "from sklearn.preprocessing import StandardScaler\n",
    "from sklearn.pipeline import Pipeline\n",
    "\n",
    "os.chdir('../data/')\n",
    "\n",
    "data = pd.read_pickle('procesada/data_plus_census.pkl')\n",
    "#data = data.query('state==\"sp\"').dropna()\n",
    "data = data.dropna()"
   ]
  },
  {
   "cell_type": "code",
   "execution_count": 82,
   "metadata": {},
   "outputs": [],
   "source": [
    "def model_metrics(model_search):\n",
    "    print('Best parameters: {0}'.format(model_search.best_params_))\n",
    "    print('Best score: {0:.3f}'.format(model_search.best_score_))\n",
    "    print('Best model score in test: {0:.3f}'.format(accuracy_score(y_test, model_search.best_estimator_.predict(X_test))))\n",
    "    print('Best model ROC in test: {0:.3f}'.format(roc_auc_score(y_test, model_search.best_estimator_.predict_proba(X_test)[:,1])))\n",
    "    print('Confussion matrix in test:\\n')\n",
    "    print(pd.crosstab(y_test, model_search.best_estimator_.predict(X_test), normalize=True)*100)\n",
    "    print('Classification report in test: \\n')\n",
    "    print(classification_report(y_test, model_search.best_estimator_.predict(X_test)))"
   ]
  },
  {
   "cell_type": "code",
   "execution_count": 65,
   "metadata": {},
   "outputs": [],
   "source": [
    "features = data[[x for x in data.columns if data[x].dtype!='object']]\n",
    "label = pd.to_numeric(data.final_decision=='A').astype(np.int8)\n",
    "\n",
    "X_train, X_test, y_train, y_test = train_test_split(features, label, test_size=0.2, random_state=42)"
   ]
  },
  {
   "cell_type": "markdown",
   "metadata": {},
   "source": [
    "# Logistic regression"
   ]
  },
  {
   "cell_type": "code",
   "execution_count": 66,
   "metadata": {},
   "outputs": [],
   "source": [
    "pipeline_logistic = Pipeline([('scaler', StandardScaler()), \n",
    "                              ('model', SGDClassifier(loss='log', penalty='elasticnet', random_state=2020, fit_intercept=True))],\n",
    "                             verbose = False)"
   ]
  },
  {
   "cell_type": "code",
   "execution_count": 77,
   "metadata": {},
   "outputs": [
    {
     "name": "stdout",
     "output_type": "stream",
     "text": [
      "Fitting 5 folds for each of 20 candidates, totalling 100 fits\n"
     ]
    },
    {
     "name": "stderr",
     "output_type": "stream",
     "text": [
      "[Parallel(n_jobs=5)]: Using backend LokyBackend with 5 concurrent workers.\n",
      "[Parallel(n_jobs=5)]: Done  40 tasks      | elapsed:    4.5s\n",
      "[Parallel(n_jobs=5)]: Done 100 out of 100 | elapsed:    9.6s finished\n"
     ]
    }
   ],
   "source": [
    "params_logistic = {'model__alpha': np.arange(0, 10, 0.2),\n",
    "                   'model__l1_ratio': np.arange(0.01, 1, 0.02)}\n",
    "\n",
    "model_logistic = RandomizedSearchCV(pipeline_logistic,\n",
    "                                    params_logistic, \n",
    "                                    random_state=2020,\n",
    "                                    scoring='accuracy',\n",
    "                                    cv=5,\n",
    "                                    n_iter=20,\n",
    "                                    verbose=1,\n",
    "                                    n_jobs=5)\n",
    "model_logistic = model_logistic.fit(X_train, y_train)"
   ]
  },
  {
   "cell_type": "code",
   "execution_count": 83,
   "metadata": {},
   "outputs": [
    {
     "name": "stdout",
     "output_type": "stream",
     "text": [
      "Best parameters: {'model__l1_ratio': 0.15, 'model__alpha': 0.6000000000000001}\n",
      "Best score: 0.665\n",
      "Best model score in test: 0.656\n",
      "Best model ROC in test: 0.768\n",
      "Confussion matrix in test:\n",
      "\n",
      "col_0                   0          1\n",
      "final_decision                      \n",
      "0               54.600302   3.046757\n",
      "1               31.342383  11.010558\n",
      "Classification report in test: \n",
      "\n",
      "              precision    recall  f1-score   support\n",
      "\n",
      "           0       0.64      0.95      0.76      3822\n",
      "           1       0.78      0.26      0.39      2808\n",
      "\n",
      "    accuracy                           0.66      6630\n",
      "   macro avg       0.71      0.60      0.58      6630\n",
      "weighted avg       0.70      0.66      0.60      6630\n",
      "\n"
     ]
    }
   ],
   "source": [
    "model_metrics(model_logistic)"
   ]
  },
  {
   "cell_type": "markdown",
   "metadata": {},
   "source": [
    "# Random forest"
   ]
  },
  {
   "cell_type": "code",
   "execution_count": 86,
   "metadata": {},
   "outputs": [],
   "source": [
    "rf_acceptance = RandomForestClassifier(n_estimators=50)\n",
    "pipeline_rf = Pipeline([('scaler', StandardScaler()), \n",
    "                        ('select_model', SelectFromModel(rf_acceptance, prefit=False)),\n",
    "                        ('model', RandomForestClassifier(random_state=2020))],\n",
    "                       verbose = False)"
   ]
  },
  {
   "cell_type": "code",
   "execution_count": 87,
   "metadata": {},
   "outputs": [],
   "source": [
    "params_rf = {\n",
    "    'model__n_estimators': [100, 200, 500],\n",
    "    'model__min_samples_split': [2, 5, 10],\n",
    "    'model__min_samples_leaf': [1, 5, 10]\n",
    "}"
   ]
  },
  {
   "cell_type": "code",
   "execution_count": 89,
   "metadata": {},
   "outputs": [
    {
     "name": "stdout",
     "output_type": "stream",
     "text": [
      "Fitting 5 folds for each of 5 candidates, totalling 25 fits\n"
     ]
    },
    {
     "name": "stderr",
     "output_type": "stream",
     "text": [
      "[Parallel(n_jobs=5)]: Using backend LokyBackend with 5 concurrent workers.\n",
      "[Parallel(n_jobs=5)]: Done  25 out of  25 | elapsed:  4.8min remaining:    0.0s\n",
      "[Parallel(n_jobs=5)]: Done  25 out of  25 | elapsed:  4.8min finished\n"
     ]
    }
   ],
   "source": [
    "model_rf = RandomizedSearchCV(pipeline_rf, params_rf, cv=5, random_state=2020, n_iter=5, verbose=1, n_jobs=5)\n",
    "model_rf = model_rf.fit(X_train, y_train)"
   ]
  },
  {
   "cell_type": "code",
   "execution_count": 92,
   "metadata": {},
   "outputs": [
    {
     "name": "stdout",
     "output_type": "stream",
     "text": [
      "Best parameters: {'model__n_estimators': 200, 'model__min_samples_split': 2, 'model__min_samples_leaf': 10}\n",
      "Best score: 0.732\n",
      "Best model score in test: 0.730\n",
      "Best model ROC in test: 0.796\n",
      "Confussion matrix in test:\n",
      "\n",
      "col_0                   0          1\n",
      "final_decision                      \n",
      "0               46.334842  11.312217\n",
      "1               15.686275  26.666667\n",
      "Classification report in test: \n",
      "\n",
      "              precision    recall  f1-score   support\n",
      "\n",
      "           0       0.75      0.80      0.77      3822\n",
      "           1       0.70      0.63      0.66      2808\n",
      "\n",
      "    accuracy                           0.73      6630\n",
      "   macro avg       0.72      0.72      0.72      6630\n",
      "weighted avg       0.73      0.73      0.73      6630\n",
      "\n"
     ]
    }
   ],
   "source": [
    "model_metrics(model_rf)"
   ]
  },
  {
   "cell_type": "markdown",
   "metadata": {},
   "source": [
    "# XGBoost"
   ]
  },
  {
   "cell_type": "code",
   "execution_count": 95,
   "metadata": {},
   "outputs": [
    {
     "name": "stdout",
     "output_type": "stream",
     "text": [
      "Fitting 5 folds for each of 15 candidates, totalling 75 fits\n"
     ]
    },
    {
     "name": "stderr",
     "output_type": "stream",
     "text": [
      "[Parallel(n_jobs=5)]: Using backend LokyBackend with 5 concurrent workers.\n",
      "[Parallel(n_jobs=5)]: Done  31 tasks      | elapsed:  5.1min\n",
      "[Parallel(n_jobs=5)]: Done  75 out of  75 | elapsed: 10.8min finished\n"
     ]
    },
    {
     "name": "stdout",
     "output_type": "stream",
     "text": [
      "[15:27:43] WARNING: /workspace/src/learner.cc:480: \n",
      "Parameters: { silent } might not be used.\n",
      "\n",
      "  This may not be accurate due to some parameters are only used in language bindings but\n",
      "  passed down to XGBoost core.  Or some parameters are not used but slip through this\n",
      "  verification. Please open an issue if you find above cases.\n",
      "\n",
      "\n"
     ]
    }
   ],
   "source": [
    "dtrain = xgb.DMatrix(X_train, label=y_train)\n",
    "dtest = xgb.DMatrix(X_test, label=y_test)\n",
    "\n",
    "\n",
    "params_xgb = {'min_child_weight': [1, 5, 10],\n",
    "              'gamma': [0.5, 1, 1.5, 2, 5],\n",
    "              'subsample': [0.6, 0.8, 1.0],\n",
    "              'colsample_bytree': [0.6, 0.8, 1.0],\n",
    "              'max_depth': [3, 4, 5],\n",
    "              'n_estimators': [100, 200, 300]\n",
    "             }\n",
    "\n",
    "xgb_instace = xgb.XGBClassifier(learning_rate=0.01,\n",
    "                                objective='binary:logistic')\n",
    "\n",
    "model_xgb = RandomizedSearchCV(xgb_instace, \n",
    "                               params_xgb, \n",
    "                               n_iter=15,\n",
    "                               scoring='roc_auc',\n",
    "                               n_jobs=5, \n",
    "                               cv=5, \n",
    "                               verbose=2,\n",
    "                               random_state=2020)\n",
    "\n",
    "model_xgb = model_xgb.fit(X_train, y_train)"
   ]
  },
  {
   "cell_type": "code",
   "execution_count": 96,
   "metadata": {},
   "outputs": [
    {
     "name": "stdout",
     "output_type": "stream",
     "text": [
      "Best parameters: {'subsample': 0.8, 'n_estimators': 300, 'min_child_weight': 1, 'max_depth': 5, 'gamma': 5, 'colsample_bytree': 0.8}\n",
      "Best score: 0.797\n",
      "Best model score in test: 0.735\n",
      "Best model ROC in test: 0.798\n",
      "Confussion matrix in test:\n",
      "\n",
      "col_0                   0          1\n",
      "final_decision                      \n",
      "0               46.304676  11.342383\n",
      "1               15.173454  27.179487\n",
      "Classification report in test: \n",
      "\n",
      "              precision    recall  f1-score   support\n",
      "\n",
      "           0       0.75      0.80      0.78      3822\n",
      "           1       0.71      0.64      0.67      2808\n",
      "\n",
      "    accuracy                           0.73      6630\n",
      "   macro avg       0.73      0.72      0.72      6630\n",
      "weighted avg       0.73      0.73      0.73      6630\n",
      "\n"
     ]
    }
   ],
   "source": [
    "model_metrics(model_xgb)"
   ]
  },
  {
   "cell_type": "code",
   "execution_count": 109,
   "metadata": {},
   "outputs": [],
   "source": [
    "dtrain = xgb.DMatrix(X_train, label=y_train)\n",
    "dtest = xgb.DMatrix(X_test, label=y_test)\n",
    "\n",
    "param = {'eta': 0.01, 'objective': 'binary:logistic',\n",
    "         'subsample': 0.8, 'min_child_weight': 1,\n",
    "         'max_depth': 5, 'gamma': 5, 'colsample_bytree': 0.8}\n",
    "\n",
    "# specify validations set to watch performance\n",
    "# watchlist = [(dtest, 'eval'), (dtrain, 'train')]\n",
    "watchlist = [(dtest, 'eval')]\n",
    "num_round = 1400\n",
    "\n",
    "bst = xgb.train(param, dtrain, num_round, watchlist, early_stopping_rounds=80, verbose_eval=False)"
   ]
  },
  {
   "cell_type": "code",
   "execution_count": 119,
   "metadata": {},
   "outputs": [
    {
     "data": {
      "text/plain": [
       "0.736500754147813"
      ]
     },
     "execution_count": 119,
     "metadata": {},
     "output_type": "execute_result"
    }
   ],
   "source": [
    "predictions = (bst.predict(dtest)>0.5).astype(np.int8)\n",
    "accuracy_score(y_test, predictions)"
   ]
  },
  {
   "cell_type": "markdown",
   "metadata": {},
   "source": [
    "# Comparing ROC curves"
   ]
  },
  {
   "cell_type": "code",
   "execution_count": 118,
   "metadata": {},
   "outputs": [
    {
     "data": {
      "image/png": "[encoded data removed]",
      "text/plain": [
       "<Figure size 720x576 with 1 Axes>"
      ]
     },
     "metadata": {
      "needs_background": "light"
     },
     "output_type": "display_data"
    }
   ],
   "source": [
    "names_models = ['logistic_lasso', 'rf', 'xgb']\n",
    "fig, ax = plt.subplots(figsize=(10, 8))\n",
    "ax.plot([0, 1], [0, 1], 'k--')\n",
    "for idx, model_i in enumerate([model_logistic, model_rf, model_xgb]):\n",
    "    fpr, tpr, thresholds = roc_curve(y_test, model_i.best_estimator_.predict_proba(X_test)[:,1])\n",
    "    plt.plot(fpr, tpr, label=names_models[idx])\n",
    "\n",
    "fpr, tpr, thresholds = roc_curve(y_test, bst.predict(dtest))\n",
    "plt.plot(fpr, tpr, label='xgb_2')\n",
    "ax.legend()\n",
    "plt.xlabel('False Positive Rate')\n",
    "plt.ylabel('True Positive Rate')\n",
    "plt.title('ROC Curve')\n",
    "plt.show()"
   ]
  }
 ],
 "metadata": {
  "kernelspec": {
   "display_name": "Python 3",
   "language": "python",
   "name": "python3"
  },
  "language_info": {
   "codemirror_mode": {
    "name": "ipython",
    "version": 3
   },
   "file_extension": ".py",
   "mimetype": "text/x-python",
   "name": "python",
   "nbconvert_exporter": "python",
   "pygments_lexer": "ipython3",
   "version": "3.8.2"
  }
 },
 "nbformat": 4,
 "nbformat_minor": 4
}
