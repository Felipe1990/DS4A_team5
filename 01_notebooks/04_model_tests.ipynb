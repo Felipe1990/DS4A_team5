{
 "cells": [
  {
   "cell_type": "code",
   "execution_count": 1,
   "metadata": {},
   "outputs": [],
   "source": [
    "# model creation\n",
    "import pandas as pd\n",
    "import os \n",
    "import numpy as np\n",
    "import matplotlib.pyplot as plt\n",
    "\n",
    "from sklearn.ensemble import RandomForestClassifier\n",
    "from sklearn.feature_selection import SelectFromModel\n",
    "from sklearn.model_selection import RandomizedSearchCV, train_test_split\n",
    "from sklearn.linear_model import SGDClassifier\n",
    "import xgboost as xgb\n",
    "# from scipy.stats import uniform\n",
    "from sklearn.metrics import accuracy_score, roc_auc_score, roc_curve, classification_report\n",
    "from sklearn.preprocessing import StandardScaler\n",
    "from sklearn.pipeline import Pipeline\n",
    "\n",
    "os.chdir('../data/')\n",
    "\n",
    "data = pd.read_pickle('procesada/data_plus_census_added_features.pkl')\n",
    "#data = data.query('state==\"sp\"').dropna()\n",
    "data = data.dropna()"
   ]
  },
  {
   "cell_type": "code",
   "execution_count": 2,
   "metadata": {},
   "outputs": [],
   "source": [
    "def model_metrics(model_search):\n",
    "    print('Best parameters: {0}'.format(model_search.best_params_))\n",
    "    print('Best score: {0:.3f}'.format(model_search.best_score_))\n",
    "    print('Best model score in test: {0:.3f}'.format(accuracy_score(y_test, model_search.best_estimator_.predict(X_test))))\n",
    "    print('Best model ROC in test: {0:.3f}'.format(roc_auc_score(y_test, model_search.best_estimator_.predict_proba(X_test)[:,1])))\n",
    "    print('Confussion matrix in test:\\n')\n",
    "    print(pd.crosstab(y_test, model_search.best_estimator_.predict(X_test), normalize=True)*100)\n",
    "    print('Classification report in test: \\n')\n",
    "    print(classification_report(y_test, model_search.best_estimator_.predict(X_test)))"
   ]
  },
  {
   "cell_type": "code",
   "execution_count": 3,
   "metadata": {},
   "outputs": [],
   "source": [
    "features = data[[x for x in data.columns if data[x].dtype!='object']]\n",
    "label = pd.to_numeric(data.final_decision=='A').astype(np.int8)\n",
    "\n",
    "X_train, X_test, y_train, y_test = train_test_split(features, label, test_size=0.2, random_state=42)"
   ]
  },
  {
   "cell_type": "code",
   "execution_count": 5,
   "metadata": {},
   "outputs": [
    {
     "data": {
      "text/html": [
       "<div>\n",
       "<style scoped>\n",
       "    .dataframe tbody tr th:only-of-type {\n",
       "        vertical-align: middle;\n",
       "    }\n",
       "\n",
       "    .dataframe tbody tr th {\n",
       "        vertical-align: top;\n",
       "    }\n",
       "\n",
       "    .dataframe thead th {\n",
       "        text-align: right;\n",
       "    }\n",
       "</style>\n",
       "<table border=\"1\" class=\"dataframe\">\n",
       "  <thead>\n",
       "    <tr style=\"text-align: right;\">\n",
       "      <th></th>\n",
       "      <th>state</th>\n",
       "      <th>census_code</th>\n",
       "      <th>concat</th>\n",
       "      <th>final_decision</th>\n",
       "      <th>Cod_setor</th>\n",
       "      <th>Cod_UF</th>\n",
       "      <th>Cod_bairro</th>\n",
       "      <th>Cod_distrito</th>\n",
       "      <th>Cod_meso</th>\n",
       "      <th>Cod_micro</th>\n",
       "      <th>...</th>\n",
       "      <th>DOMICILIO_RENDA_V005_pct</th>\n",
       "      <th>DOMICILIO_RENDA_V006_pct</th>\n",
       "      <th>DOMICILIO_RENDA_V007_pct</th>\n",
       "      <th>DOMICILIO_RENDA_V008_pct</th>\n",
       "      <th>DOMICILIO_RENDA_V009_pct</th>\n",
       "      <th>DOMICILIO_RENDA_V010_pct</th>\n",
       "      <th>DOMICILIO_RENDA_V011_pct</th>\n",
       "      <th>DOMICILIO_RENDA_V012_pct</th>\n",
       "      <th>DOMICILIO_RENDA_V013_pct</th>\n",
       "      <th>DOMICILIO_RENDA_V014_pct</th>\n",
       "    </tr>\n",
       "  </thead>\n",
       "  <tbody>\n",
       "    <tr>\n",
       "      <th>0</th>\n",
       "      <td>sp</td>\n",
       "      <td>353340305000020</td>\n",
       "      <td>Ânielo Poconé , Lopes Iglesias , Nova Odessa , SP</td>\n",
       "      <td>A</td>\n",
       "      <td>353340305000020</td>\n",
       "      <td>SP</td>\n",
       "      <td>3533403012</td>\n",
       "      <td>353340305</td>\n",
       "      <td>3507</td>\n",
       "      <td>35032</td>\n",
       "      <td>...</td>\n",
       "      <td>0.000000</td>\n",
       "      <td>0.003268</td>\n",
       "      <td>0.032680</td>\n",
       "      <td>0.235294</td>\n",
       "      <td>0.434641</td>\n",
       "      <td>0.120915</td>\n",
       "      <td>0.084967</td>\n",
       "      <td>0.052288</td>\n",
       "      <td>0.006536</td>\n",
       "      <td>0.029412</td>\n",
       "    </tr>\n",
       "    <tr>\n",
       "      <th>1</th>\n",
       "      <td>sp</td>\n",
       "      <td>351960005000025</td>\n",
       "      <td>Ângelo pacola n 610, Jardim pacola, Ibitinga  ...</td>\n",
       "      <td>R</td>\n",
       "      <td>351960005000025</td>\n",
       "      <td>SP</td>\n",
       "      <td>3519600000</td>\n",
       "      <td>351960005</td>\n",
       "      <td>3505</td>\n",
       "      <td>35024</td>\n",
       "      <td>...</td>\n",
       "      <td>0.000000</td>\n",
       "      <td>0.021368</td>\n",
       "      <td>0.072650</td>\n",
       "      <td>0.329060</td>\n",
       "      <td>0.444444</td>\n",
       "      <td>0.076923</td>\n",
       "      <td>0.034188</td>\n",
       "      <td>0.012821</td>\n",
       "      <td>0.000000</td>\n",
       "      <td>0.008547</td>\n",
       "    </tr>\n",
       "    <tr>\n",
       "      <th>2</th>\n",
       "      <td>sp</td>\n",
       "      <td>350410705000009</td>\n",
       "      <td>Área Rural, Área Rural de Atibaia, Atibaia, SP</td>\n",
       "      <td>R</td>\n",
       "      <td>350410705000009</td>\n",
       "      <td>SP</td>\n",
       "      <td>3504107013</td>\n",
       "      <td>350410705</td>\n",
       "      <td>3512</td>\n",
       "      <td>35048</td>\n",
       "      <td>...</td>\n",
       "      <td>0.000000</td>\n",
       "      <td>0.000000</td>\n",
       "      <td>0.085470</td>\n",
       "      <td>0.170940</td>\n",
       "      <td>0.256410</td>\n",
       "      <td>0.196581</td>\n",
       "      <td>0.179487</td>\n",
       "      <td>0.042735</td>\n",
       "      <td>0.034188</td>\n",
       "      <td>0.034188</td>\n",
       "    </tr>\n",
       "    <tr>\n",
       "      <th>3</th>\n",
       "      <td>sp</td>\n",
       "      <td>355030846000278</td>\n",
       "      <td>vitorio, vila prel, sao paulo, SP</td>\n",
       "      <td>A</td>\n",
       "      <td>355030846000278</td>\n",
       "      <td>35</td>\n",
       "      <td>3550308000</td>\n",
       "      <td>355030846</td>\n",
       "      <td>3515</td>\n",
       "      <td>35061</td>\n",
       "      <td>...</td>\n",
       "      <td>0.000000</td>\n",
       "      <td>0.003788</td>\n",
       "      <td>0.106061</td>\n",
       "      <td>0.321970</td>\n",
       "      <td>0.306818</td>\n",
       "      <td>0.106061</td>\n",
       "      <td>0.071970</td>\n",
       "      <td>0.015152</td>\n",
       "      <td>0.000000</td>\n",
       "      <td>0.068182</td>\n",
       "    </tr>\n",
       "    <tr>\n",
       "      <th>4</th>\n",
       "      <td>sp</td>\n",
       "      <td>351040105000064</td>\n",
       "      <td>vitorio roggieri , castelani, Capivari, SP</td>\n",
       "      <td>R</td>\n",
       "      <td>351040105000064</td>\n",
       "      <td>SP</td>\n",
       "      <td>3510401000</td>\n",
       "      <td>351040105</td>\n",
       "      <td>3506</td>\n",
       "      <td>35028</td>\n",
       "      <td>...</td>\n",
       "      <td>0.016575</td>\n",
       "      <td>0.031308</td>\n",
       "      <td>0.176796</td>\n",
       "      <td>0.445672</td>\n",
       "      <td>0.259669</td>\n",
       "      <td>0.036832</td>\n",
       "      <td>0.012891</td>\n",
       "      <td>0.005525</td>\n",
       "      <td>0.000000</td>\n",
       "      <td>0.014733</td>\n",
       "    </tr>\n",
       "  </tbody>\n",
       "</table>\n",
       "<p>5 rows × 228 columns</p>\n",
       "</div>"
      ],
      "text/plain": [
       "  state      census_code                                             concat  \\\n",
       "0    sp  353340305000020  Ânielo Poconé , Lopes Iglesias , Nova Odessa , SP   \n",
       "1    sp  351960005000025  Ângelo pacola n 610, Jardim pacola, Ibitinga  ...   \n",
       "2    sp  350410705000009     Área Rural, Área Rural de Atibaia, Atibaia, SP   \n",
       "3    sp  355030846000278                  vitorio, vila prel, sao paulo, SP   \n",
       "4    sp  351040105000064         vitorio roggieri , castelani, Capivari, SP   \n",
       "\n",
       "  final_decision        Cod_setor Cod_UF  Cod_bairro Cod_distrito Cod_meso  \\\n",
       "0              A  353340305000020     SP  3533403012    353340305     3507   \n",
       "1              R  351960005000025     SP  3519600000    351960005     3505   \n",
       "2              R  350410705000009     SP  3504107013    350410705     3512   \n",
       "3              A  355030846000278     35  3550308000    355030846     3515   \n",
       "4              R  351040105000064     SP  3510401000    351040105     3506   \n",
       "\n",
       "  Cod_micro  ... DOMICILIO_RENDA_V005_pct DOMICILIO_RENDA_V006_pct  \\\n",
       "0     35032  ...                 0.000000                 0.003268   \n",
       "1     35024  ...                 0.000000                 0.021368   \n",
       "2     35048  ...                 0.000000                 0.000000   \n",
       "3     35061  ...                 0.000000                 0.003788   \n",
       "4     35028  ...                 0.016575                 0.031308   \n",
       "\n",
       "   DOMICILIO_RENDA_V007_pct  DOMICILIO_RENDA_V008_pct  \\\n",
       "0                  0.032680                  0.235294   \n",
       "1                  0.072650                  0.329060   \n",
       "2                  0.085470                  0.170940   \n",
       "3                  0.106061                  0.321970   \n",
       "4                  0.176796                  0.445672   \n",
       "\n",
       "   DOMICILIO_RENDA_V009_pct  DOMICILIO_RENDA_V010_pct  \\\n",
       "0                  0.434641                  0.120915   \n",
       "1                  0.444444                  0.076923   \n",
       "2                  0.256410                  0.196581   \n",
       "3                  0.306818                  0.106061   \n",
       "4                  0.259669                  0.036832   \n",
       "\n",
       "   DOMICILIO_RENDA_V011_pct  DOMICILIO_RENDA_V012_pct  \\\n",
       "0                  0.084967                  0.052288   \n",
       "1                  0.034188                  0.012821   \n",
       "2                  0.179487                  0.042735   \n",
       "3                  0.071970                  0.015152   \n",
       "4                  0.012891                  0.005525   \n",
       "\n",
       "   DOMICILIO_RENDA_V013_pct  DOMICILIO_RENDA_V014_pct  \n",
       "0                  0.006536                  0.029412  \n",
       "1                  0.000000                  0.008547  \n",
       "2                  0.034188                  0.034188  \n",
       "3                  0.000000                  0.068182  \n",
       "4                  0.000000                  0.014733  \n",
       "\n",
       "[5 rows x 228 columns]"
      ]
     },
     "execution_count": 5,
     "metadata": {},
     "output_type": "execute_result"
    }
   ],
   "source": [
    "data.head()"
   ]
  },
  {
   "cell_type": "markdown",
   "metadata": {},
   "source": [
    "# Logistic regression"
   ]
  },
  {
   "cell_type": "code",
   "execution_count": 27,
   "metadata": {},
   "outputs": [],
   "source": [
    "pipeline_logistic = Pipeline([('scaler', StandardScaler()), \n",
    "                              ('model', SGDClassifier(loss='log', penalty='elasticnet', random_state=2020, fit_intercept=True))],\n",
    "                             verbose = False)"
   ]
  },
  {
   "cell_type": "code",
   "execution_count": 28,
   "metadata": {},
   "outputs": [
    {
     "name": "stdout",
     "output_type": "stream",
     "text": [
      "Fitting 5 folds for each of 20 candidates, totalling 100 fits\n"
     ]
    },
    {
     "name": "stderr",
     "output_type": "stream",
     "text": [
      "[Parallel(n_jobs=5)]: Using backend LokyBackend with 5 concurrent workers.\n",
      "[Parallel(n_jobs=5)]: Done  40 tasks      | elapsed:    5.3s\n",
      "[Parallel(n_jobs=5)]: Done 100 out of 100 | elapsed:   11.6s finished\n"
     ]
    }
   ],
   "source": [
    "params_logistic = {'model__alpha': np.arange(0, 10, 0.2),\n",
    "                   'model__l1_ratio': np.arange(0.01, 1, 0.02)}\n",
    "\n",
    "model_logistic = RandomizedSearchCV(pipeline_logistic,\n",
    "                                    params_logistic, \n",
    "                                    random_state=2020,\n",
    "                                    scoring='accuracy',\n",
    "                                    cv=5,\n",
    "                                    n_iter=20,\n",
    "                                    verbose=1,\n",
    "                                    n_jobs=5)\n",
    "model_logistic = model_logistic.fit(X_train, y_train)"
   ]
  },
  {
   "cell_type": "code",
   "execution_count": 6,
   "metadata": {},
   "outputs": [
    {
     "name": "stdout",
     "output_type": "stream",
     "text": [
      "Best parameters: {'model__l1_ratio': 0.15, 'model__alpha': 0.6000000000000001}\n",
      "Best score: 0.686\n",
      "Best model score in test: 0.681\n",
      "Best model ROC in test: 0.773\n",
      "Confussion matrix in test:\n",
      "\n",
      "col_0                   0          1\n",
      "final_decision                      \n",
      "0               54.027149   3.725490\n",
      "1               28.174962  14.072398\n",
      "Classification report in test: \n",
      "\n",
      "              precision    recall  f1-score   support\n",
      "\n",
      "           0       0.66      0.94      0.77      3829\n",
      "           1       0.79      0.33      0.47      2801\n",
      "\n",
      "    accuracy                           0.68      6630\n",
      "   macro avg       0.72      0.63      0.62      6630\n",
      "weighted avg       0.71      0.68      0.64      6630\n",
      "\n"
     ]
    }
   ],
   "source": [
    "model_metrics(model_logistic)"
   ]
  },
  {
   "cell_type": "markdown",
   "metadata": {},
   "source": [
    "# Random forest"
   ]
  },
  {
   "cell_type": "code",
   "execution_count": 29,
   "metadata": {},
   "outputs": [],
   "source": [
    "rf_acceptance = RandomForestClassifier(n_estimators=50)\n",
    "pipeline_rf = Pipeline([('scaler', StandardScaler()),\n",
    "                        ('select_model', SelectFromModel(rf_acceptance, prefit=False)),\n",
    "                        ('model', RandomForestClassifier(random_state=2020))],\n",
    "                       verbose = False)"
   ]
  },
  {
   "cell_type": "code",
   "execution_count": 30,
   "metadata": {},
   "outputs": [],
   "source": [
    "params_rf = {\n",
    "    'model__n_estimators': [100, 200, 500],\n",
    "    'model__min_samples_split': [2, 5, 10],\n",
    "    'model__min_samples_leaf': [1, 5, 10]\n",
    "}"
   ]
  },
  {
   "cell_type": "code",
   "execution_count": 31,
   "metadata": {},
   "outputs": [
    {
     "name": "stdout",
     "output_type": "stream",
     "text": [
      "Fitting 5 folds for each of 5 candidates, totalling 25 fits\n"
     ]
    },
    {
     "name": "stderr",
     "output_type": "stream",
     "text": [
      "[Parallel(n_jobs=5)]: Using backend LokyBackend with 5 concurrent workers.\n",
      "[Parallel(n_jobs=5)]: Done  25 out of  25 | elapsed:  5.8min finished\n"
     ]
    }
   ],
   "source": [
    "model_rf = RandomizedSearchCV(pipeline_rf, params_rf, cv=5, random_state=2020, n_iter=5, verbose=1, n_jobs=5)\n",
    "model_rf = model_rf.fit(X_train, y_train)"
   ]
  },
  {
   "cell_type": "code",
   "execution_count": 32,
   "metadata": {},
   "outputs": [
    {
     "name": "stdout",
     "output_type": "stream",
     "text": [
      "Best parameters: {'model__n_estimators': 200, 'model__min_samples_split': 2, 'model__min_samples_leaf': 10}\n",
      "Best score: 0.731\n",
      "Best model score in test: 0.733\n",
      "Best model ROC in test: 0.798\n",
      "Confussion matrix in test:\n",
      "\n",
      "col_0                   0          1\n",
      "final_decision                      \n",
      "0               46.546003  11.206637\n",
      "1               15.444947  26.802413\n",
      "Classification report in test: \n",
      "\n",
      "              precision    recall  f1-score   support\n",
      "\n",
      "           0       0.75      0.81      0.78      3829\n",
      "           1       0.71      0.63      0.67      2801\n",
      "\n",
      "    accuracy                           0.73      6630\n",
      "   macro avg       0.73      0.72      0.72      6630\n",
      "weighted avg       0.73      0.73      0.73      6630\n",
      "\n"
     ]
    }
   ],
   "source": [
    "model_metrics(model_rf)"
   ]
  },
  {
   "cell_type": "markdown",
   "metadata": {},
   "source": [
    "# XGBoost"
   ]
  },
  {
   "cell_type": "code",
   "execution_count": 11,
   "metadata": {},
   "outputs": [
    {
     "name": "stdout",
     "output_type": "stream",
     "text": [
      "Fitting 5 folds for each of 15 candidates, totalling 75 fits\n"
     ]
    },
    {
     "name": "stderr",
     "output_type": "stream",
     "text": [
      "[Parallel(n_jobs=5)]: Using backend LokyBackend with 5 concurrent workers.\n",
      "[Parallel(n_jobs=5)]: Done  31 tasks      | elapsed:  6.0min\n",
      "[Parallel(n_jobs=5)]: Done  75 out of  75 | elapsed: 12.5min finished\n"
     ]
    }
   ],
   "source": [
    "dtrain = xgb.DMatrix(X_train, label=y_train)\n",
    "dtest = xgb.DMatrix(X_test, label=y_test)\n",
    "\n",
    "\n",
    "params_xgb = {'min_child_weight': [1, 5, 10],\n",
    "              'gamma': [0.5, 1, 1.5, 2, 5],\n",
    "              'subsample': [0.6, 0.8, 1.0],\n",
    "              'colsample_bytree': [0.6, 0.8, 1.0],\n",
    "              'max_depth': [3, 4, 5],\n",
    "              'n_estimators': [100, 200, 300]\n",
    "             }\n",
    "\n",
    "xgb_instace = xgb.XGBClassifier(learning_rate=0.01,\n",
    "                                objective='binary:logistic')\n",
    "\n",
    "model_xgb = RandomizedSearchCV(xgb_instace, \n",
    "                               params_xgb, \n",
    "                               n_iter=15,\n",
    "                               scoring='roc_auc',\n",
    "                               n_jobs=5, \n",
    "                               cv=5, \n",
    "                               verbose=2,\n",
    "                               random_state=2020)\n",
    "\n",
    "model_xgb = model_xgb.fit(X_train, y_train)"
   ]
  },
  {
   "cell_type": "code",
   "execution_count": 12,
   "metadata": {},
   "outputs": [
    {
     "name": "stdout",
     "output_type": "stream",
     "text": [
      "Best parameters: {'subsample': 0.8, 'n_estimators': 300, 'min_child_weight': 1, 'max_depth': 5, 'gamma': 5, 'colsample_bytree': 0.8}\n",
      "Best score: 0.798\n",
      "Best model score in test: 0.736\n",
      "Best model ROC in test: 0.800\n",
      "Confussion matrix in test:\n",
      "\n",
      "col_0                   0          1\n",
      "final_decision                      \n",
      "0               46.500754  11.266968\n",
      "1               15.098039  27.134238\n",
      "Classification report in test: \n",
      "\n",
      "              precision    recall  f1-score   support\n",
      "\n",
      "           0       0.75      0.80      0.78      3830\n",
      "           1       0.71      0.64      0.67      2800\n",
      "\n",
      "    accuracy                           0.74      6630\n",
      "   macro avg       0.73      0.72      0.73      6630\n",
      "weighted avg       0.73      0.74      0.73      6630\n",
      "\n"
     ]
    }
   ],
   "source": [
    "model_metrics(model_xgb)"
   ]
  },
  {
   "cell_type": "code",
   "execution_count": 13,
   "metadata": {},
   "outputs": [],
   "source": [
    "dtrain = xgb.DMatrix(X_train, label=y_train)\n",
    "dtest = xgb.DMatrix(X_test, label=y_test)\n",
    "\n",
    "param = {'eta': 0.01, 'objective': 'binary:logistic',\n",
    "         'subsample': 0.8, 'min_child_weight': 1,\n",
    "         'max_depth': 5, 'gamma': 5, 'colsample_bytree': 0.8}\n",
    "\n",
    "# specify validations set to watch performance\n",
    "# watchlist = [(dtest, 'eval'), (dtrain, 'train')]\n",
    "watchlist = [(dtest, 'eval')]\n",
    "num_round = 1400\n",
    "\n",
    "bst = xgb.train(param, dtrain, num_round, watchlist, early_stopping_rounds=80, verbose_eval=False)"
   ]
  },
  {
   "cell_type": "code",
   "execution_count": 14,
   "metadata": {},
   "outputs": [
    {
     "data": {
      "text/plain": [
       "0.7392156862745098"
      ]
     },
     "execution_count": 14,
     "metadata": {},
     "output_type": "execute_result"
    }
   ],
   "source": [
    "predictions = (bst.predict(dtest)>0.5).astype(np.int8)\n",
    "accuracy_score(y_test, predictions)"
   ]
  },
  {
   "cell_type": "markdown",
   "metadata": {},
   "source": [
    "# Comparing ROC curves"
   ]
  },
  {
   "cell_type": "code",
   "execution_count": 15,
   "metadata": {},
   "outputs": [
    {
     "data": {
      "image/png": "[encoded data removed]",
      "text/plain": [
       "<Figure size 720x576 with 1 Axes>"
      ]
     },
     "metadata": {
      "needs_background": "light"
     },
     "output_type": "display_data"
    }
   ],
   "source": [
    "names_models = ['logistic_lasso', 'rf', 'xgb']\n",
    "fig, ax = plt.subplots(figsize=(10, 8))\n",
    "ax.plot([0, 1], [0, 1], 'k--')\n",
    "for idx, model_i in enumerate([model_logistic, model_rf, model_xgb]):\n",
    "    fpr, tpr, thresholds = roc_curve(y_test, model_i.best_estimator_.predict_proba(X_test)[:,1])\n",
    "    plt.plot(fpr, tpr, label=names_models[idx])\n",
    "\n",
    "fpr, tpr, thresholds = roc_curve(y_test, bst.predict(dtest))\n",
    "plt.plot(fpr, tpr, label='xgb_2')\n",
    "ax.legend()\n",
    "plt.xlabel('False Positive Rate')\n",
    "plt.ylabel('True Positive Rate')\n",
    "plt.title('ROC Curve')\n",
    "plt.show()"
   ]
  }
 ],
 "metadata": {
  "kernelspec": {
   "display_name": "Python 3",
   "language": "python",
   "name": "python3"
  },
  "language_info": {
   "codemirror_mode": {
    "name": "ipython",
    "version": 3
   },
   "file_extension": ".py",
   "mimetype": "text/x-python",
   "name": "python",
   "nbconvert_exporter": "python",
   "pygments_lexer": "ipython3",
   "version": "3.8.2"
  }
 },
 "nbformat": 4,
 "nbformat_minor": 4
}
