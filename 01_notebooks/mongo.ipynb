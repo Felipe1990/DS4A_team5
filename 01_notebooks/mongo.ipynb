{
 "cells": [
  {
   "cell_type": "code",
   "execution_count": 1,
   "metadata": {},
   "outputs": [],
   "source": [
    "import pandas as pd\n",
    "import os"
   ]
  },
  {
   "cell_type": "code",
   "execution_count": null,
   "metadata": {},
   "outputs": [],
   "source": []
  },
  {
   "cell_type": "code",
   "execution_count": 2,
   "metadata": {},
   "outputs": [],
   "source": [
    "os.chdir('../')"
   ]
  },
  {
   "cell_type": "code",
   "execution_count": null,
   "metadata": {},
   "outputs": [],
   "source": []
  },
  {
   "cell_type": "code",
   "execution_count": 32,
   "metadata": {},
   "outputs": [],
   "source": [
    "dt_cns_tds_vrbls = pd.read_csv('data/dados_censitarios_consolidados_todas_variaveis.csv', dtype='str')\n",
    "dt_cns_tds_vrbls = dt_cns_tds_vrbls.query('Cod_RM==\"20\"')\n"
   ]
  },
  {
   "cell_type": "code",
   "execution_count": 33,
   "metadata": {},
   "outputs": [
    {
     "data": {
      "text/plain": [
       "array(['SÃO PAULO', 'ARUJÁ', 'BARUERI', 'BIRITIBA-MIRIM', 'CAIEIRAS',\n",
       "       'CAJAMAR', 'CARAPICUÍBA', 'COTIA', 'DIADEMA', 'EMBU', 'EMBU-GUAÇU',\n",
       "       'FERRAZ DE VASCONCELOS', 'FRANCISCO MORATO', 'FRANCO DA ROCHA',\n",
       "       'GUARAREMA', 'GUARULHOS', 'ITAPECERICA DA SERRA', 'ITAPEVI',\n",
       "       'ITAQUAQUECETUBA', 'JANDIRA', 'JUQUITIBA', 'MAIRIPORÃ', 'MAUÁ',\n",
       "       'MOGI DAS CRUZES', 'OSASCO', 'PIRAPORA DO BOM JESUS', 'POÁ',\n",
       "       'RIBEIRÃO PIRES', 'RIO GRANDE DA SERRA', 'SALESÓPOLIS',\n",
       "       'SANTA ISABEL', 'SANTANA DE PARNAÍBA', 'SANTO ANDRÉ',\n",
       "       'SÃO BERNARDO DO CAMPO', 'SÃO CAETANO DO SUL',\n",
       "       'SÃO LOURENÇO DA SERRA', 'SUZANO', 'TABOÃO DA SERRA',\n",
       "       'VARGEM GRANDE PAULISTA'], dtype=object)"
      ]
     },
     "execution_count": 33,
     "metadata": {},
     "output_type": "execute_result"
    }
   ],
   "source": [
    "dt_cns_tds_vrbls['Nome_do_municipio'].unique()"
   ]
  },
  {
   "cell_type": "code",
   "execution_count": null,
   "metadata": {},
   "outputs": [],
   "source": []
  },
  {
   "cell_type": "code",
   "execution_count": null,
   "metadata": {},
   "outputs": [],
   "source": []
  },
  {
   "cell_type": "markdown",
   "metadata": {},
   "source": [
    "# GET request from MongoDB"
   ]
  },
  {
   "cell_type": "code",
   "execution_count": 29,
   "metadata": {},
   "outputs": [],
   "source": [
    "b = pd.read_json('https://webhooks.mongodb-stitch.com/api/client/v2.0/app/getinfocensus-fzwgb/service/getCensusInfo/incoming_webhook/webhook0?sector=355030801000001', orient='records')"
   ]
  },
  {
   "cell_type": "code",
   "execution_count": 4,
   "metadata": {},
   "outputs": [],
   "source": [
    "def uncompress_cell(cell):\n",
    "    \n",
    "    if isinstance(cell, dict):\n",
    "        value_cell = list(cell.values())[0]\n",
    "        \n",
    "    else:\n",
    "        value_cell = cell\n",
    "    \n",
    "    return value_cell"
   ]
  },
  {
   "cell_type": "code",
   "execution_count": 5,
   "metadata": {},
   "outputs": [
    {
     "data": {
      "text/html": [
       "<div>\n",
       "<style scoped>\n",
       "    .dataframe tbody tr th:only-of-type {\n",
       "        vertical-align: middle;\n",
       "    }\n",
       "\n",
       "    .dataframe tbody tr th {\n",
       "        vertical-align: top;\n",
       "    }\n",
       "\n",
       "    .dataframe thead th {\n",
       "        text-align: right;\n",
       "    }\n",
       "</style>\n",
       "<table border=\"1\" class=\"dataframe\">\n",
       "  <thead>\n",
       "    <tr style=\"text-align: right;\">\n",
       "      <th></th>\n",
       "      <th>_id</th>\n",
       "      <th>Cod_setor</th>\n",
       "      <th>DOMICILIO_RENDA_V001</th>\n",
       "      <th>DOMICILIO_RENDA_V002</th>\n",
       "      <th>DOMICILIO_RENDA_V003</th>\n",
       "      <th>DOMICILIO_RENDA_V004</th>\n",
       "      <th>DOMICILIO_RENDA_V005</th>\n",
       "      <th>DOMICILIO_RENDA_V006</th>\n",
       "      <th>DOMICILIO_RENDA_V007</th>\n",
       "      <th>DOMICILIO_RENDA_V008</th>\n",
       "      <th>...</th>\n",
       "      <th>Tipo_setor_6</th>\n",
       "      <th>Tipo_setor_7</th>\n",
       "      <th>Situacao_setor_1</th>\n",
       "      <th>Situacao_setor_2</th>\n",
       "      <th>Situacao_setor_3</th>\n",
       "      <th>Situacao_setor_4</th>\n",
       "      <th>Situacao_setor_5</th>\n",
       "      <th>Situacao_setor_6</th>\n",
       "      <th>Situacao_setor_7</th>\n",
       "      <th>Situacao_setor_8</th>\n",
       "    </tr>\n",
       "  </thead>\n",
       "  <tbody>\n",
       "    <tr>\n",
       "      <td>0</td>\n",
       "      <td>5eb5f679005332cd90058253</td>\n",
       "      <td>355030801000001</td>\n",
       "      <td>2</td>\n",
       "      <td>907777</td>\n",
       "      <td>903817</td>\n",
       "      <td>3960</td>\n",
       "      <td>0</td>\n",
       "      <td>0</td>\n",
       "      <td>14</td>\n",
       "      <td>51</td>\n",
       "      <td>...</td>\n",
       "      <td>0</td>\n",
       "      <td>0</td>\n",
       "      <td>1</td>\n",
       "      <td>0</td>\n",
       "      <td>0</td>\n",
       "      <td>0</td>\n",
       "      <td>0</td>\n",
       "      <td>0</td>\n",
       "      <td>0</td>\n",
       "      <td>0</td>\n",
       "    </tr>\n",
       "  </tbody>\n",
       "</table>\n",
       "<p>1 rows × 183 columns</p>\n",
       "</div>"
      ],
      "text/plain": [
       "                        _id        Cod_setor DOMICILIO_RENDA_V001  \\\n",
       "0  5eb5f679005332cd90058253  355030801000001                    2   \n",
       "\n",
       "  DOMICILIO_RENDA_V002 DOMICILIO_RENDA_V003 DOMICILIO_RENDA_V004  \\\n",
       "0               907777               903817                 3960   \n",
       "\n",
       "  DOMICILIO_RENDA_V005 DOMICILIO_RENDA_V006 DOMICILIO_RENDA_V007  \\\n",
       "0                    0                    0                   14   \n",
       "\n",
       "  DOMICILIO_RENDA_V008  ... Tipo_setor_6 Tipo_setor_7 Situacao_setor_1  \\\n",
       "0                   51  ...            0            0                1   \n",
       "\n",
       "  Situacao_setor_2 Situacao_setor_3 Situacao_setor_4 Situacao_setor_5  \\\n",
       "0                0                0                0                0   \n",
       "\n",
       "  Situacao_setor_6 Situacao_setor_7 Situacao_setor_8  \n",
       "0                0                0                0  \n",
       "\n",
       "[1 rows x 183 columns]"
      ]
     },
     "execution_count": 5,
     "metadata": {},
     "output_type": "execute_result"
    }
   ],
   "source": [
    "b.apply(lambda row: row.apply(lambda cell: uncompress_cell(cell)))"
   ]
  },
  {
   "cell_type": "markdown",
   "metadata": {},
   "source": [
    "# Load model & list of variables"
   ]
  },
  {
   "cell_type": "code",
   "execution_count": 7,
   "metadata": {},
   "outputs": [
    {
     "data": {
      "text/plain": [
       "['DomicilioRenda_RN.csv',\n",
       " 'pessoa',\n",
       " 'dados_censitarios_consolidados_todas_variaveis.csv',\n",
       " 'domicilio',\n",
       " 'var_names.pkl',\n",
       " 'json_shapes',\n",
       " 'PessoaRenda_RN.csv',\n",
       " 'acceptance_model.sav',\n",
       " 'Copy of registry.csv',\n",
       " 'procesada',\n",
       " 'basico',\n",
       " 'sharp',\n",
       " 'dados_censitarios_consolidados.csv']"
      ]
     },
     "execution_count": 7,
     "metadata": {},
     "output_type": "execute_result"
    }
   ],
   "source": [
    "os.listdir('data/')"
   ]
  },
  {
   "cell_type": "code",
   "execution_count": 15,
   "metadata": {},
   "outputs": [],
   "source": [
    "import pickle\n",
    "from sklearn.ensemble import RandomForestClassifier\n",
    "import joblib"
   ]
  },
  {
   "cell_type": "code",
   "execution_count": 21,
   "metadata": {},
   "outputs": [],
   "source": [
    "filename = 'data/var_names.pkl'\n",
    "with open(filename, 'rb') as f:\n",
    "    relevant_variables_rf = pickle.load(f)"
   ]
  },
  {
   "cell_type": "code",
   "execution_count": 26,
   "metadata": {},
   "outputs": [],
   "source": [
    "# load model\n",
    "#filename = 'data/acceptance_model.pkl'\n",
    "#with open(filename, 'rb') as f:\n",
    "#    model_acceptance = pickle.load(f)"
   ]
  }
 ],
 "metadata": {
  "kernelspec": {
   "display_name": "Python 3",
   "language": "python",
   "name": "python3"
  },
  "language_info": {
   "codemirror_mode": {
    "name": "ipython",
    "version": 3
   },
   "file_extension": ".py",
   "mimetype": "text/x-python",
   "name": "python",
   "nbconvert_exporter": "python",
   "pygments_lexer": "ipython3",
   "version": "3.8.2"
  }
 },
 "nbformat": 4,
 "nbformat_minor": 4
}
