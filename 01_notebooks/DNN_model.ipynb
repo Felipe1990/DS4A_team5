{
 "cells": [
  {
   "cell_type": "code",
   "execution_count": 0,
   "metadata": {
    "colab": {},
    "colab_type": "code",
    "id": "Ew0plDrvbME8"
   },
   "outputs": [],
   "source": [
    "import io\n",
    "import pandas as pd\n",
    "X = pd.read_csv('/content/X.csv')\n",
    "y = pd.read_csv('/content/y.csv')\n",
    "# Dataset is now stored in a Pandas Dataframe"
   ]
  },
  {
   "cell_type": "code",
   "execution_count": 8,
   "metadata": {
    "colab": {
     "base_uri": "https://localhost:8080/",
     "height": 34
    },
    "colab_type": "code",
    "id": "pK6dVxHBb1hH",
    "outputId": "4c37312f-e1c1-4245-afa6-27021163cb67"
   },
   "outputs": [
    {
     "name": "stderr",
     "output_type": "stream",
     "text": [
      "Using TensorFlow backend.\n"
     ]
    }
   ],
   "source": [
    "from keras.models import Sequential\n",
    "from keras.layers import Dense\n",
    "from keras.wrappers.scikit_learn import KerasClassifier\n",
    "from sklearn.model_selection import cross_val_score\n",
    "from sklearn.preprocessing import LabelEncoder\n",
    "from sklearn.model_selection import StratifiedKFold\n",
    "from sklearn.preprocessing import StandardScaler\n",
    "from sklearn.pipeline import Pipeline\n",
    "from sklearn.model_selection import train_test_split\n",
    "\n",
    "from sklearn.model_selection import GridSearchCV\n",
    "from sklearn.metrics import confusion_matrix, classification_report, accuracy_score\n",
    "\n",
    "import numpy as np"
   ]
  },
  {
   "cell_type": "code",
   "execution_count": 0,
   "metadata": {
    "colab": {},
    "colab_type": "code",
    "id": "GsKn9QxVfx2n"
   },
   "outputs": [],
   "source": [
    "#Create train and test sets\n",
    "X_train, X_test, y_train, y_test = train_test_split(X, y, test_size=0.2, random_state=21)"
   ]
  },
  {
   "cell_type": "code",
   "execution_count": 0,
   "metadata": {
    "colab": {},
    "colab_type": "code",
    "id": "cQZYoekech-M"
   },
   "outputs": [],
   "source": [
    "# baseline model\n",
    "def create_baseline():\n",
    "    # create model\n",
    "    model = Sequential()\n",
    "    model.add(Dense(175, input_dim=175, activation='relu'))\n",
    "    model.add(Dense(80, activation='relu'))\n",
    "    model.add(Dense(1, activation='sigmoid'))\n",
    "    # Compile model\n",
    "    model.compile(loss='binary_crossentropy', optimizer= 'adam', metrics=['accuracy'])\n",
    "    return model"
   ]
  },
  {
   "cell_type": "code",
   "execution_count": 19,
   "metadata": {
    "colab": {
     "base_uri": "https://localhost:8080/",
     "height": 51
    },
    "colab_type": "code",
    "id": "IQ_4GAW8cmZR",
    "outputId": "8788bd9e-bd0a-45d7-a851-072c38e76390"
   },
   "outputs": [
    {
     "name": "stdout",
     "output_type": "stream",
     "text": [
      "Tuned neural network Parameters: {'batch_size': 128, 'epochs': 9}\n",
      "Best score is 0.7218676122931442\n"
     ]
    }
   ],
   "source": [
    "# evaluate model with standardized dataset\n",
    "model = KerasClassifier(build_fn=create_baseline)\n",
    "\n",
    "\n",
    "parameters = {'batch_size': [25, 64, 128, 200, 256, 300, 560],\n",
    "          'epochs': [5, 9, 10, 15, 20, 30, 50]}\n",
    "\n",
    "\n",
    "grid_search = GridSearchCV(estimator = model,\n",
    "                       param_grid = parameters,\n",
    "                       scoring = 'accuracy',\n",
    "                       cv = 5)\n",
    "\n",
    "grid_search = grid_search.fit(X_train, y_train, verbose = 0)\n",
    "\n",
    "#Print the tuned parameter and score\n",
    "print(\"Tuned neural network Parameters: {}\".format(grid_search.best_params_))\n",
    "print(\"Best score is {}\".format(grid_search.best_score_))"
   ]
  },
  {
   "cell_type": "code",
   "execution_count": 20,
   "metadata": {
    "colab": {
     "base_uri": "https://localhost:8080/",
     "height": 221
    },
    "colab_type": "code",
    "id": "OH8RJ-UMdQpu",
    "outputId": "f222ac2b-3a30-46cf-de3b-4138a55b6512"
   },
   "outputs": [
    {
     "name": "stdout",
     "output_type": "stream",
     "text": [
      "0.7263987391646967\n",
      "[[3011  747]\n",
      " [ 989 1598]]\n",
      "              precision    recall  f1-score   support\n",
      "\n",
      "           0       0.75      0.80      0.78      3758\n",
      "           1       0.68      0.62      0.65      2587\n",
      "\n",
      "    accuracy                           0.73      6345\n",
      "   macro avg       0.72      0.71      0.71      6345\n",
      "weighted avg       0.72      0.73      0.72      6345\n",
      "\n"
     ]
    }
   ],
   "source": [
    "y_pred = grid_search.predict(X_test)\n",
    "\n",
    "\n",
    "\n",
    "print(accuracy_score(y_test, y_pred))\n",
    "print(confusion_matrix(y_test, y_pred))\n",
    "print(classification_report(y_test, y_pred))"
   ]
  }
 ],
 "metadata": {
  "accelerator": "TPU",
  "colab": {
   "name": "Untitled3.ipynb",
   "provenance": []
  },
  "kernelspec": {
   "display_name": "Python 3",
   "language": "python",
   "name": "python3"
  },
  "language_info": {
   "codemirror_mode": {
    "name": "ipython",
    "version": 3
   },
   "file_extension": ".py",
   "mimetype": "text/x-python",
   "name": "python",
   "nbconvert_exporter": "python",
   "pygments_lexer": "ipython3",
   "version": "3.8.2"
  }
 },
 "nbformat": 4,
 "nbformat_minor": 1
}
